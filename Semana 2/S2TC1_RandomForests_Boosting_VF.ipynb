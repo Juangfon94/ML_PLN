{
 "cells": [
  {
   "cell_type": "markdown",
   "metadata": {
    "toc": true
   },
   "source": [
    "<h1>Contenido<span class=\"tocSkip\"></span></h1>\n",
    "<div class=\"toc\"><ul class=\"toc-item\"><li><ul class=\"toc-item\"><li><ul class=\"toc-item\"><li><span><a href=\"#Integrantes\" data-toc-modified-id=\"Integrantes-0.0.1\"><span class=\"toc-item-num\">0.0.1&nbsp;&nbsp;</span>Integrantes</a></span></li><li><span><a href=\"#Taller:-Construcción-e-implementación-de-modelos-Bagging,-Random-Forest-y-XGBoost\" data-toc-modified-id=\"Taller:-Construcción-e-implementación-de-modelos-Bagging,-Random-Forest-y-XGBoost-0.0.2\"><span class=\"toc-item-num\">0.0.2&nbsp;&nbsp;</span>Taller: Construcción e implementación de modelos Bagging, Random Forest y XGBoost</a></span></li><li><span><a href=\"#Datos-predicción-precio-de-automóviles\" data-toc-modified-id=\"Datos-predicción-precio-de-automóviles-0.0.3\"><span class=\"toc-item-num\">0.0.3&nbsp;&nbsp;</span>Datos predicción precio de automóviles</a></span></li><li><span><a href=\"#Métricas\" data-toc-modified-id=\"Métricas-0.0.4\"><span class=\"toc-item-num\">0.0.4&nbsp;&nbsp;</span>Métricas</a></span></li></ul></li></ul></li><li><span><a href=\"#Punto-1---Árbol-de-decisión-manual\" data-toc-modified-id=\"Punto-1---Árbol-de-decisión-manual-1\"><span class=\"toc-item-num\">1&nbsp;&nbsp;</span>Punto 1 - Árbol de decisión manual</a></span><ul class=\"toc-item\"><li><span><a href=\"#Métricas-árbol-de-decisión-manual\" data-toc-modified-id=\"Métricas-árbol-de-decisión-manual-1.1\"><span class=\"toc-item-num\">1.1&nbsp;&nbsp;</span>Métricas árbol de decisión manual</a></span></li></ul></li><li><span><a href=\"#Punto-2---Bagging-manual\" data-toc-modified-id=\"Punto-2---Bagging-manual-2\"><span class=\"toc-item-num\">2&nbsp;&nbsp;</span>Punto 2 - Bagging manual</a></span></li><li><span><a href=\"#Punto-3---Bagging-con-librería\" data-toc-modified-id=\"Punto-3---Bagging-con-librería-3\"><span class=\"toc-item-num\">3&nbsp;&nbsp;</span>Punto 3 - Bagging con librería</a></span></li><li><span><a href=\"#Punto-4---Random-forest-con-librería\" data-toc-modified-id=\"Punto-4---Random-forest-con-librería-4\"><span class=\"toc-item-num\">4&nbsp;&nbsp;</span>Punto 4 - Random forest con librería</a></span></li><li><span><a href=\"#Punto-5---Calibración-de-parámetros-Random-forest\" data-toc-modified-id=\"Punto-5---Calibración-de-parámetros-Random-forest-5\"><span class=\"toc-item-num\">5&nbsp;&nbsp;</span>Punto 5 - Calibración de parámetros Random forest</a></span><ul class=\"toc-item\"><li><ul class=\"toc-item\"><li><span><a href=\"#Calibración-de-n_estimators\" data-toc-modified-id=\"Calibración-de-n_estimators-5.0.1\"><span class=\"toc-item-num\">5.0.1&nbsp;&nbsp;</span>Calibración de n_estimators</a></span></li><li><span><a href=\"#Calibracióm-max_features\" data-toc-modified-id=\"Calibracióm-max_features-5.0.2\"><span class=\"toc-item-num\">5.0.2&nbsp;&nbsp;</span>Calibracióm max_features</a></span></li></ul></li></ul></li><li><span><a href=\"#Punto-6---XGBoost-con-librería\" data-toc-modified-id=\"Punto-6---XGBoost-con-librería-6\"><span class=\"toc-item-num\">6&nbsp;&nbsp;</span>Punto 6 - XGBoost con librería</a></span><ul class=\"toc-item\"><li><span><a href=\"#Métricas-XGBoost-con-librería\" data-toc-modified-id=\"Métricas-XGBoost-con-librería-6.1\"><span class=\"toc-item-num\">6.1&nbsp;&nbsp;</span>Métricas XGBoost con librería</a></span></li></ul></li><li><span><a href=\"#Punto-7---Calibración-de-parámetros-XGBoost\" data-toc-modified-id=\"Punto-7---Calibración-de-parámetros-XGBoost-7\"><span class=\"toc-item-num\">7&nbsp;&nbsp;</span>Punto 7 - Calibración de parámetros XGBoost</a></span><ul class=\"toc-item\"><li><span><a href=\"#Métricas-de-calibración-de-XGBoost-con-librería\" data-toc-modified-id=\"Métricas-de-calibración-de-XGBoost-con-librería-7.1\"><span class=\"toc-item-num\">7.1&nbsp;&nbsp;</span>Métricas de calibración de XGBoost con librería</a></span></li><li><span><a href=\"#Comparación-modelos-XGBoost\" data-toc-modified-id=\"Comparación-modelos-XGBoost-7.2\"><span class=\"toc-item-num\">7.2&nbsp;&nbsp;</span>Comparación modelos XGBoost</a></span></li></ul></li><li><span><a href=\"#Punto-8---Comparación-y-análisis-de-resultados\" data-toc-modified-id=\"Punto-8---Comparación-y-análisis-de-resultados-8\"><span class=\"toc-item-num\">8&nbsp;&nbsp;</span>Punto 8 - Comparación y análisis de resultados</a></span></li></ul></div>"
   ]
  },
  {
   "cell_type": "markdown",
   "metadata": {
    "id": "OlMSO4yX0R-u"
   },
   "source": [
    "![image info](https://raw.githubusercontent.com/albahnsen/MIAD_ML_and_NLP/main/images/banner_1.png)"
   ]
  },
  {
   "cell_type": "markdown",
   "metadata": {},
   "source": [
    "### Integrantes"
   ]
  },
  {
   "cell_type": "markdown",
   "metadata": {},
   "source": [
    "CARLOS ANDRES ARIAS GARCIA</br>\n",
    "JUAN MANUEL GUERRERO FONSECA</br>\n",
    "GUSTAVO CORDERO RUEDA</br>\n",
    "NELSON MELO MELO SALAMANCA"
   ]
  },
  {
   "cell_type": "markdown",
   "metadata": {
    "id": "szD5oK4V0R-w"
   },
   "source": [
    "### Taller: Construcción e implementación de modelos Bagging, Random Forest y XGBoost\n",
    "\n",
    "En este taller podrán poner en práctica sus conocimientos sobre la construcción e implementación de modelos de Bagging, Random Forest y XGBoost. El taller está constituido por 8 puntos, en los cuales deberan seguir las intrucciones de cada numeral para su desarrollo."
   ]
  },
  {
   "cell_type": "markdown",
   "metadata": {
    "id": "39fEW0l70R-w"
   },
   "source": [
    "### Datos predicción precio de automóviles\n",
    "\n",
    "En este taller se usará el conjunto de datos de Car Listings de Kaggle donde cada observación representa el precio de un automóvil teniendo en cuenta distintas variables como año, marca, modelo, entre otras. El objetivo es predecir el precio del automóvil. Para más detalles puede visitar el siguiente enlace: [datos](https://www.kaggle.com/jpayne/852k-used-car-listings)."
   ]
  },
  {
   "cell_type": "code",
   "execution_count": 1,
   "metadata": {
    "id": "AGppKef70R-x"
   },
   "outputs": [],
   "source": [
    "import warnings\n",
    "warnings.filterwarnings('ignore')"
   ]
  },
  {
   "cell_type": "code",
   "execution_count": 2,
   "metadata": {},
   "outputs": [
    {
     "name": "stdout",
     "output_type": "stream",
     "text": [
      "Requirement already satisfied: xgboost in c:\\users\\user\\appdata\\roaming\\python\\python39\\site-packages (1.7.5)\n",
      "Requirement already satisfied: numpy in c:\\programdata\\anaconda3\\lib\\site-packages (from xgboost) (1.21.5)\n",
      "Requirement already satisfied: scipy in c:\\programdata\\anaconda3\\lib\\site-packages (from xgboost) (1.7.3)\n",
      "Note: you may need to restart the kernel to use updated packages.\n"
     ]
    }
   ],
   "source": [
    "pip install xgboost --user"
   ]
  },
  {
   "cell_type": "code",
   "execution_count": 3,
   "metadata": {
    "id": "PeLAywRx0hkt"
   },
   "outputs": [],
   "source": [
    "#Cargamos librerias\n",
    "%matplotlib inline\n",
    "import pandas as pd\n",
    "import numpy as np\n",
    "import matplotlib.pyplot as plt\n",
    "\n",
    "#sklearn\n",
    "from sklearn.model_selection import train_test_split\n",
    "from sklearn.ensemble import BaggingRegressor\n",
    "from sklearn.linear_model import LinearRegression\n",
    "from sklearn.tree import DecisionTreeRegressor\n",
    "from sklearn.model_selection import cross_val_score\n",
    "from sklearn.ensemble import RandomForestRegressor\n",
    "\n",
    "from sklearn.ensemble import RandomForestClassifier\n",
    "\n",
    "\n",
    "\n",
    "#xgboost\n",
    "from xgboost import XGBRegressor\n",
    "from xgboost import XGBClassifier\n",
    "\n",
    "#metricas\n",
    "from sklearn.metrics import mean_squared_error\n",
    "from sklearn.metrics import r2_score\n",
    "from sklearn.metrics import mean_absolute_error\n",
    "from sklearn.metrics import mean_absolute_percentage_error\n",
    "from sklearn.metrics import mean_squared_error\n",
    "from sklearn import metrics\n",
    "\n",
    "import warnings\n",
    "warnings.filterwarnings('ignore')"
   ]
  },
  {
   "cell_type": "code",
   "execution_count": 4,
   "metadata": {
    "colab": {
     "base_uri": "https://localhost:8080/",
     "height": 204
    },
    "id": "2xAbcyle0R-y",
    "outputId": "21fe7881-6e7f-449e-d8cd-d977e89ce75d"
   },
   "outputs": [
    {
     "data": {
      "text/html": [
       "<div>\n",
       "<style scoped>\n",
       "    .dataframe tbody tr th:only-of-type {\n",
       "        vertical-align: middle;\n",
       "    }\n",
       "\n",
       "    .dataframe tbody tr th {\n",
       "        vertical-align: top;\n",
       "    }\n",
       "\n",
       "    .dataframe thead th {\n",
       "        text-align: right;\n",
       "    }\n",
       "</style>\n",
       "<table border=\"1\" class=\"dataframe\">\n",
       "  <thead>\n",
       "    <tr style=\"text-align: right;\">\n",
       "      <th></th>\n",
       "      <th>Price</th>\n",
       "      <th>Year</th>\n",
       "      <th>Mileage</th>\n",
       "      <th>M_Camry</th>\n",
       "      <th>M_Camry4dr</th>\n",
       "      <th>M_CamryBase</th>\n",
       "      <th>M_CamryL</th>\n",
       "      <th>M_CamryLE</th>\n",
       "      <th>M_CamrySE</th>\n",
       "      <th>M_CamryXLE</th>\n",
       "    </tr>\n",
       "  </thead>\n",
       "  <tbody>\n",
       "    <tr>\n",
       "      <th>7</th>\n",
       "      <td>21995</td>\n",
       "      <td>2014</td>\n",
       "      <td>6480</td>\n",
       "      <td>0</td>\n",
       "      <td>0</td>\n",
       "      <td>0</td>\n",
       "      <td>1</td>\n",
       "      <td>0</td>\n",
       "      <td>0</td>\n",
       "      <td>0</td>\n",
       "    </tr>\n",
       "    <tr>\n",
       "      <th>11</th>\n",
       "      <td>13995</td>\n",
       "      <td>2014</td>\n",
       "      <td>39972</td>\n",
       "      <td>0</td>\n",
       "      <td>0</td>\n",
       "      <td>0</td>\n",
       "      <td>0</td>\n",
       "      <td>1</td>\n",
       "      <td>0</td>\n",
       "      <td>0</td>\n",
       "    </tr>\n",
       "    <tr>\n",
       "      <th>167</th>\n",
       "      <td>17941</td>\n",
       "      <td>2016</td>\n",
       "      <td>18989</td>\n",
       "      <td>0</td>\n",
       "      <td>0</td>\n",
       "      <td>0</td>\n",
       "      <td>0</td>\n",
       "      <td>0</td>\n",
       "      <td>1</td>\n",
       "      <td>0</td>\n",
       "    </tr>\n",
       "    <tr>\n",
       "      <th>225</th>\n",
       "      <td>12493</td>\n",
       "      <td>2014</td>\n",
       "      <td>51330</td>\n",
       "      <td>0</td>\n",
       "      <td>0</td>\n",
       "      <td>0</td>\n",
       "      <td>1</td>\n",
       "      <td>0</td>\n",
       "      <td>0</td>\n",
       "      <td>0</td>\n",
       "    </tr>\n",
       "    <tr>\n",
       "      <th>270</th>\n",
       "      <td>7994</td>\n",
       "      <td>2007</td>\n",
       "      <td>116065</td>\n",
       "      <td>0</td>\n",
       "      <td>1</td>\n",
       "      <td>0</td>\n",
       "      <td>0</td>\n",
       "      <td>0</td>\n",
       "      <td>0</td>\n",
       "      <td>0</td>\n",
       "    </tr>\n",
       "  </tbody>\n",
       "</table>\n",
       "</div>"
      ],
      "text/plain": [
       "     Price  Year  Mileage  M_Camry  M_Camry4dr  M_CamryBase  M_CamryL  \\\n",
       "7    21995  2014     6480        0           0            0         1   \n",
       "11   13995  2014    39972        0           0            0         0   \n",
       "167  17941  2016    18989        0           0            0         0   \n",
       "225  12493  2014    51330        0           0            0         1   \n",
       "270   7994  2007   116065        0           1            0         0   \n",
       "\n",
       "     M_CamryLE  M_CamrySE  M_CamryXLE  \n",
       "7            0          0           0  \n",
       "11           1          0           0  \n",
       "167          0          1           0  \n",
       "225          0          0           0  \n",
       "270          0          0           0  "
      ]
     },
     "execution_count": 4,
     "metadata": {},
     "output_type": "execute_result"
    }
   ],
   "source": [
    "# Lectura de la información de archivo .csv\n",
    "data = pd.read_csv('https://raw.githubusercontent.com/albahnsen/MIAD_ML_and_NLP/main/datasets/dataTrain_carListings.zip')\n",
    "\n",
    "# Preprocesamiento de datos para el taller\n",
    "data = data.loc[data['Model'].str.contains('Camry')].drop(['Make', 'State'], axis=1)\n",
    "data = data.join(pd.get_dummies(data['Model'], prefix='M'))\n",
    "data = data.drop(['Model'], axis=1)\n",
    "\n",
    "# Visualización dataset\n",
    "data.head()"
   ]
  },
  {
   "cell_type": "code",
   "execution_count": 5,
   "metadata": {
    "colab": {
     "base_uri": "https://localhost:8080/",
     "height": 204
    },
    "id": "WfYoxuhXYJ2o",
    "outputId": "8a64abfa-0b5c-4762-c760-13ceddb556f4"
   },
   "outputs": [
    {
     "data": {
      "text/html": [
       "<div>\n",
       "<style scoped>\n",
       "    .dataframe tbody tr th:only-of-type {\n",
       "        vertical-align: middle;\n",
       "    }\n",
       "\n",
       "    .dataframe tbody tr th {\n",
       "        vertical-align: top;\n",
       "    }\n",
       "\n",
       "    .dataframe thead th {\n",
       "        text-align: right;\n",
       "    }\n",
       "</style>\n",
       "<table border=\"1\" class=\"dataframe\">\n",
       "  <thead>\n",
       "    <tr style=\"text-align: right;\">\n",
       "      <th></th>\n",
       "      <th>Price</th>\n",
       "      <th>Year</th>\n",
       "      <th>Mileage</th>\n",
       "      <th>M_Camry</th>\n",
       "      <th>M_Camry4dr</th>\n",
       "      <th>M_CamryBase</th>\n",
       "      <th>M_CamryL</th>\n",
       "      <th>M_CamryLE</th>\n",
       "      <th>M_CamrySE</th>\n",
       "      <th>M_CamryXLE</th>\n",
       "    </tr>\n",
       "  </thead>\n",
       "  <tbody>\n",
       "    <tr>\n",
       "      <th>7</th>\n",
       "      <td>21995</td>\n",
       "      <td>2014</td>\n",
       "      <td>6480</td>\n",
       "      <td>0</td>\n",
       "      <td>0</td>\n",
       "      <td>0</td>\n",
       "      <td>1</td>\n",
       "      <td>0</td>\n",
       "      <td>0</td>\n",
       "      <td>0</td>\n",
       "    </tr>\n",
       "    <tr>\n",
       "      <th>11</th>\n",
       "      <td>13995</td>\n",
       "      <td>2014</td>\n",
       "      <td>39972</td>\n",
       "      <td>0</td>\n",
       "      <td>0</td>\n",
       "      <td>0</td>\n",
       "      <td>0</td>\n",
       "      <td>1</td>\n",
       "      <td>0</td>\n",
       "      <td>0</td>\n",
       "    </tr>\n",
       "    <tr>\n",
       "      <th>167</th>\n",
       "      <td>17941</td>\n",
       "      <td>2016</td>\n",
       "      <td>18989</td>\n",
       "      <td>0</td>\n",
       "      <td>0</td>\n",
       "      <td>0</td>\n",
       "      <td>0</td>\n",
       "      <td>0</td>\n",
       "      <td>1</td>\n",
       "      <td>0</td>\n",
       "    </tr>\n",
       "    <tr>\n",
       "      <th>225</th>\n",
       "      <td>12493</td>\n",
       "      <td>2014</td>\n",
       "      <td>51330</td>\n",
       "      <td>0</td>\n",
       "      <td>0</td>\n",
       "      <td>0</td>\n",
       "      <td>1</td>\n",
       "      <td>0</td>\n",
       "      <td>0</td>\n",
       "      <td>0</td>\n",
       "    </tr>\n",
       "    <tr>\n",
       "      <th>270</th>\n",
       "      <td>7994</td>\n",
       "      <td>2007</td>\n",
       "      <td>116065</td>\n",
       "      <td>0</td>\n",
       "      <td>1</td>\n",
       "      <td>0</td>\n",
       "      <td>0</td>\n",
       "      <td>0</td>\n",
       "      <td>0</td>\n",
       "      <td>0</td>\n",
       "    </tr>\n",
       "  </tbody>\n",
       "</table>\n",
       "</div>"
      ],
      "text/plain": [
       "     Price  Year  Mileage  M_Camry  M_Camry4dr  M_CamryBase  M_CamryL  \\\n",
       "7    21995  2014     6480        0           0            0         1   \n",
       "11   13995  2014    39972        0           0            0         0   \n",
       "167  17941  2016    18989        0           0            0         0   \n",
       "225  12493  2014    51330        0           0            0         1   \n",
       "270   7994  2007   116065        0           1            0         0   \n",
       "\n",
       "     M_CamryLE  M_CamrySE  M_CamryXLE  \n",
       "7            0          0           0  \n",
       "11           1          0           0  \n",
       "167          0          1           0  \n",
       "225          0          0           0  \n",
       "270          0          0           0  "
      ]
     },
     "execution_count": 5,
     "metadata": {},
     "output_type": "execute_result"
    }
   ],
   "source": [
    "# Eliminación filas con observaciones nulas\n",
    "data.dropna(inplace=True)\n",
    "data.head()"
   ]
  },
  {
   "cell_type": "code",
   "execution_count": 6,
   "metadata": {
    "colab": {
     "base_uri": "https://localhost:8080/"
    },
    "id": "MYEF7qqH5OI9",
    "outputId": "a2757621-3144-4dde-b46f-23f5907a2dc8"
   },
   "outputs": [
    {
     "data": {
      "text/plain": [
       "count    10495.000000\n",
       "mean     14538.403716\n",
       "std       3922.420961\n",
       "min       5002.000000\n",
       "25%      11999.000000\n",
       "50%      15000.000000\n",
       "75%      16999.000000\n",
       "max      32444.000000\n",
       "Name: Price, dtype: float64"
      ]
     },
     "execution_count": 6,
     "metadata": {},
     "output_type": "execute_result"
    }
   ],
   "source": [
    "# Descripción de la variable de respuesta 'Price'\n",
    "data.Price.describe()"
   ]
  },
  {
   "cell_type": "code",
   "execution_count": 7,
   "metadata": {
    "id": "BaZ-Y8CM0R-y"
   },
   "outputs": [],
   "source": [
    "# Separación de variables predictoras (X) y variable de interés (y)\n",
    "X = data.drop(['Price'], axis=1)\n",
    "y = data['Price']"
   ]
  },
  {
   "cell_type": "code",
   "execution_count": 8,
   "metadata": {
    "id": "ByflIYuV0R-y"
   },
   "outputs": [],
   "source": [
    "# Separación de datos en set de entrenamiento y test\n",
    "XTrain, XTest, yTrain, yTest = train_test_split(X, y, test_size=0.33, random_state=42)"
   ]
  },
  {
   "cell_type": "markdown",
   "metadata": {},
   "source": [
    "### Métricas"
   ]
  },
  {
   "cell_type": "markdown",
   "metadata": {},
   "source": [
    "* MAE: error absoluto medio\n",
    "* MAPE: error porcentual absoluto medio\n",
    "* MSE: error cuadrático medio\n",
    "* RMSE: raiz cuadrada del error cuadrático medio"
   ]
  },
  {
   "cell_type": "markdown",
   "metadata": {
    "id": "4Bb5qGOJ0R-z"
   },
   "source": [
    "# Punto 1 - Árbol de decisión manual\n",
    "\n",
    "En la celda 1 creen un árbol de decisión **manualmente**  que considere los set de entrenamiento y test definidos anteriormente y presenten el RMSE y MAE del modelo en el set de test."
   ]
  },
  {
   "cell_type": "code",
   "execution_count": 9,
   "metadata": {
    "id": "RGKvWW0D0R-z"
   },
   "outputs": [],
   "source": [
    "# Definición de parámetros y criterios de parada\n",
    "max_depth = None\n",
    "num_pct = 10\n",
    "max_features = None\n",
    "min_gain=0.001"
   ]
  },
  {
   "cell_type": "code",
   "execution_count": 10,
   "metadata": {
    "colab": {
     "base_uri": "https://localhost:8080/"
    },
    "id": "b8a0DyNL1Kmh",
    "outputId": "609ed466-c5f7-43fa-ef05-6bd891b7d354"
   },
   "outputs": [
    {
     "name": "stdout",
     "output_type": "stream",
     "text": [
      "Mileage\n"
     ]
    }
   ],
   "source": [
    "# Impresión variable\n",
    "j = 1\n",
    "print(X.columns[j])"
   ]
  },
  {
   "cell_type": "code",
   "execution_count": 11,
   "metadata": {
    "colab": {
     "base_uri": "https://localhost:8080/"
    },
    "id": "g8vUskhQ1PkO",
    "outputId": "649b14c5-5d7d-4553-87a0-d31814de272c"
   },
   "outputs": [
    {
     "data": {
      "text/plain": [
       "array([5.000000e+00, 1.576440e+04, 2.345860e+04, 2.993760e+04,\n",
       "       3.570080e+04, 4.168000e+04, 4.824700e+04, 6.171600e+04,\n",
       "       8.153420e+04, 1.067578e+05])"
      ]
     },
     "execution_count": 11,
     "metadata": {},
     "output_type": "execute_result"
    }
   ],
   "source": [
    "# División de la variable en num_ctp puntos (parámetro definido anteriormente) para obtener posibles puntos de corte\n",
    "splits = np.percentile(X.iloc[:, j], np.arange(0, 100, 100.0 / num_pct).tolist())\n",
    "splits = np.unique(splits)\n",
    "splits"
   ]
  },
  {
   "cell_type": "code",
   "execution_count": 12,
   "metadata": {
    "id": "6nnQZMyz1gqQ"
   },
   "outputs": [],
   "source": [
    "# División de las observaciones usando el punto de corte en la posición 5 de la lista de splits\n",
    "k=5\n",
    "filter_l = X.iloc[:, j] < splits[k]\n",
    "\n",
    "# División de la variable de respuesta de acuerdo a si la observación cumple o no con la regla binaria\n",
    "# y_l: la observación tiene un valor menor al punto de corte seleccionado\n",
    "# y_r: la observación tiene un valor mayor o igual al punto de corte seleccionado\n",
    "y_l = y.loc[filter_l]\n",
    "y_r = y.loc[~filter_l]"
   ]
  },
  {
   "cell_type": "code",
   "execution_count": 13,
   "metadata": {
    "id": "qxkYnI5s1nZx"
   },
   "outputs": [],
   "source": [
    "# Definición de la función que calcula el gini index\n",
    "def gini(y):\n",
    "    if y.shape[0] == 0:\n",
    "        return 0\n",
    "    else:\n",
    "        return 1 - (y.mean()**2 + (1 - y.mean())**2)"
   ]
  },
  {
   "cell_type": "code",
   "execution_count": 14,
   "metadata": {
    "colab": {
     "base_uri": "https://localhost:8080/"
    },
    "id": "Eqcm4B8y1rOB",
    "outputId": "a7d310ac-0c9a-4881-e4a4-1f915620b3db"
   },
   "outputs": [
    {
     "data": {
      "text/plain": [
       "-584221909.9546928"
      ]
     },
     "execution_count": 14,
     "metadata": {},
     "output_type": "execute_result"
    }
   ],
   "source": [
    "# Gini index de las observaciones que tienen un valor menor al punto de corte seleccionado\n",
    "gini_l = gini(y_l)\n",
    "gini_l"
   ]
  },
  {
   "cell_type": "code",
   "execution_count": 15,
   "metadata": {
    "colab": {
     "base_uri": "https://localhost:8080/"
    },
    "id": "OWUAq3O11yfn",
    "outputId": "ba38ec9f-b1fc-4cd1-d2d2-749198624d47"
   },
   "outputs": [
    {
     "data": {
      "text/plain": [
       "-287282376.9689342"
      ]
     },
     "execution_count": 15,
     "metadata": {},
     "output_type": "execute_result"
    }
   ],
   "source": [
    "# Gini index de las observaciones que tienen un valor mayor o igual al punto de corte seleccionado\n",
    "gini_r = gini(y_r)\n",
    "gini_r"
   ]
  },
  {
   "cell_type": "code",
   "execution_count": 16,
   "metadata": {
    "id": "YnDq6Utw1zm_"
   },
   "outputs": [],
   "source": [
    "# Definición de la función gini_imputiry para calular la ganancia de una variable predictora j dado el punto de corte k\n",
    "def gini_impurity(X_col, y, split):\n",
    "    \n",
    "    filter_l = X_col < split\n",
    "    y_l = y.loc[filter_l]\n",
    "    y_r = y.loc[~filter_l]\n",
    "    \n",
    "    n_l = y_l.shape[0]\n",
    "    n_r = y_r.shape[0]\n",
    "    \n",
    "    gini_y = gini(y)\n",
    "    gini_l = gini(y_l)\n",
    "    gini_r = gini(y_r)\n",
    "    \n",
    "    gini_impurity_ = gini_y - (n_l / (n_l + n_r) * gini_l + n_r / (n_l + n_r) * gini_r)\n",
    "    \n",
    "    return gini_impurity_"
   ]
  },
  {
   "cell_type": "code",
   "execution_count": 17,
   "metadata": {
    "colab": {
     "base_uri": "https://localhost:8080/"
    },
    "id": "0qCA8Zkh1291",
    "outputId": "75e639ba-92f8-4365-fb7e-369a7cf142c5"
   },
   "outputs": [
    {
     "data": {
      "text/plain": [
       "13036708.332934737"
      ]
     },
     "execution_count": 17,
     "metadata": {},
     "output_type": "execute_result"
    }
   ],
   "source": [
    "# Ganancia de la variable 'Hits' en el punto de corte selecionado\n",
    "gini_impurity(X.iloc[:, j], y, splits[k])"
   ]
  },
  {
   "cell_type": "code",
   "execution_count": 18,
   "metadata": {
    "id": "A1Qz0giu168i"
   },
   "outputs": [],
   "source": [
    "# Definición de la función best_split para calcular cuál es la mejor variable y punto de cortepara hacer la bifurcación del árbol\n",
    "def best_split(X, y, num_pct=10):\n",
    "    \n",
    "    features = range(X.shape[1])\n",
    "    \n",
    "    best_split = [0, 0, 0]  # j, split, gain\n",
    "    \n",
    "    # Para todas las varibles \n",
    "    for j in features:\n",
    "        \n",
    "        splits = np.percentile(X.iloc[:, j], np.arange(0, 100, 100.0 / (num_pct+1)).tolist())\n",
    "        splits = np.unique(splits)[1:]\n",
    "        \n",
    "        # Para cada partición\n",
    "        for split in splits:\n",
    "            gain = gini_impurity(X.iloc[:, j], y, split)\n",
    "                        \n",
    "            if gain > best_split[2]:\n",
    "                best_split = [j, split, gain]\n",
    "    \n",
    "    return best_split"
   ]
  },
  {
   "cell_type": "code",
   "execution_count": 19,
   "metadata": {
    "colab": {
     "base_uri": "https://localhost:8080/"
    },
    "id": "D5Cq0Crs2FEw",
    "outputId": "2d8810c5-c4b5-46c4-c87c-22dfec502be6"
   },
   "outputs": [
    {
     "data": {
      "text/plain": [
       "(0, 2014.0, 17349239.621991813)"
      ]
     },
     "execution_count": 19,
     "metadata": {},
     "output_type": "execute_result"
    }
   ],
   "source": [
    "# Obtención de la variable 'j', su punto de corte 'split' y su ganancia 'gain'\n",
    "j, split, gain = best_split(X, y, 5)\n",
    "j, split, gain"
   ]
  },
  {
   "cell_type": "code",
   "execution_count": 20,
   "metadata": {
    "id": "BEc8OW7W2Iom"
   },
   "outputs": [],
   "source": [
    "# División de las observaciones usando la mejor variable 'j' y su punto de corte 'split'\n",
    "filter_l = X.iloc[:, j] < split\n",
    "\n",
    "y_l = y.loc[filter_l]\n",
    "y_r = y.loc[~filter_l]"
   ]
  },
  {
   "cell_type": "code",
   "execution_count": 21,
   "metadata": {
    "colab": {
     "base_uri": "https://localhost:8080/"
    },
    "id": "cRnCUEjc2Lm_",
    "outputId": "fd94d317-e335-4143-ede1-71e4c034134c"
   },
   "outputs": [
    {
     "data": {
      "text/plain": [
       "(10495, 3356, 7139)"
      ]
     },
     "execution_count": 21,
     "metadata": {},
     "output_type": "execute_result"
    }
   ],
   "source": [
    "y.shape[0], y_l.shape[0], y_r.shape[0]"
   ]
  },
  {
   "cell_type": "code",
   "execution_count": 22,
   "metadata": {
    "colab": {
     "base_uri": "https://localhost:8080/"
    },
    "id": "cSKzy-8W2OjQ",
    "outputId": "2abc2c3a-cd39-40c8-b584-9cff32f13657"
   },
   "outputs": [
    {
     "data": {
      "text/plain": [
       "(14538.403716055265, 10242.713647199047, 16557.781201848997)"
      ]
     },
     "execution_count": 22,
     "metadata": {},
     "output_type": "execute_result"
    }
   ],
   "source": [
    "y.mean(), y_l.mean(), y_r.mean()"
   ]
  },
  {
   "cell_type": "code",
   "execution_count": 23,
   "metadata": {
    "id": "0lBwxxCQ2RmE"
   },
   "outputs": [],
   "source": [
    "# Definición de la función tree_grow para hacer un crecimiento recursivo del árbol\n",
    "def tree_grow(X, y, level=0, min_gain=0.001, max_depth=None, num_pct=10):\n",
    "    \n",
    "    # Si solo es una observación\n",
    "    if X.shape[0] == 1:\n",
    "        tree = dict(y_pred=y.iloc[:1].values[0], y_prob=0.5, level=level, split=-1, n_samples=1, gain=0)\n",
    "        return tree\n",
    "    \n",
    "    # Calcular la mejor división\n",
    "    j, split, gain = best_split(X, y, num_pct)\n",
    "    \n",
    "    # Guardar el árbol y estimar la predicción\n",
    "    y_pred = int(y.mean() >= 0.5) \n",
    "    y_prob = (y.sum() + 1.0) / (y.shape[0] + 2.0)  # Corrección Laplace \n",
    "    \n",
    "    tree = dict(y_pred=y_pred, y_prob=y_prob, level=level, split=-1, n_samples=X.shape[0], gain=gain)\n",
    "    # Revisar el criterio de parada \n",
    "    if gain < min_gain:\n",
    "        return tree\n",
    "    if max_depth is not None:\n",
    "        if level >= max_depth:\n",
    "            return tree   \n",
    "    \n",
    "    # Continuar creando la partición\n",
    "    filter_l = X.iloc[:, j] < split\n",
    "    X_l, y_l = X.loc[filter_l], y.loc[filter_l]\n",
    "    X_r, y_r = X.loc[~filter_l], y.loc[~filter_l]\n",
    "    tree['split'] = [j, split]\n",
    "\n",
    "    # Siguiente iteración para cada partición\n",
    "    \n",
    "    tree['sl'] = tree_grow(X_l, y_l, level + 1, min_gain=min_gain, max_depth=max_depth, num_pct=num_pct)\n",
    "    tree['sr'] = tree_grow(X_r, y_r, level + 1, min_gain=min_gain, max_depth=max_depth, num_pct=num_pct)\n",
    "    \n",
    "    return tree"
   ]
  },
  {
   "cell_type": "code",
   "execution_count": 24,
   "metadata": {
    "colab": {
     "base_uri": "https://localhost:8080/"
    },
    "id": "pKbEBPWS2YJ2",
    "outputId": "0fd08cf2-d0f6-4c4f-8751-b49bd5c2c0d7"
   },
   "outputs": [
    {
     "data": {
      "text/plain": [
       "{'y_pred': 1,\n",
       " 'y_prob': 14535.633800133372,\n",
       " 'level': 0,\n",
       " 'split': [0, 2014.0],\n",
       " 'n_samples': 10495,\n",
       " 'gain': 17349239.621991813,\n",
       " 'sl': {'y_pred': 1,\n",
       "  'y_prob': 10236.613460393091,\n",
       "  'level': 1,\n",
       "  'split': -1,\n",
       "  'n_samples': 3356,\n",
       "  'gain': 7787930.328242004},\n",
       " 'sr': {'y_pred': 1,\n",
       "  'y_prob': 16553.143957428932,\n",
       "  'level': 1,\n",
       "  'split': -1,\n",
       "  'n_samples': 7139,\n",
       "  'gain': 3024805.47488904}}"
      ]
     },
     "execution_count": 24,
     "metadata": {},
     "output_type": "execute_result"
    }
   ],
   "source": [
    "# Aplicación de la función tree_grow\n",
    "tree_grow(X, y, level=0, min_gain=0.001, max_depth=1, num_pct=10)"
   ]
  },
  {
   "cell_type": "code",
   "execution_count": 25,
   "metadata": {
    "colab": {
     "base_uri": "https://localhost:8080/"
    },
    "id": "aIa2rHgL2chR",
    "outputId": "cef49b8d-5eda-428f-a0a9-1e10a7132492"
   },
   "outputs": [
    {
     "data": {
      "text/plain": [
       "{'y_pred': 1,\n",
       " 'y_prob': 14535.633800133372,\n",
       " 'level': 0,\n",
       " 'split': [0, 2014.0],\n",
       " 'n_samples': 10495,\n",
       " 'gain': 17349239.621991813,\n",
       " 'sl': {'y_pred': 1,\n",
       "  'y_prob': 10236.613460393091,\n",
       "  'level': 1,\n",
       "  'split': [0, 2012.0],\n",
       "  'n_samples': 3356,\n",
       "  'gain': 7787930.328242004,\n",
       "  'sl': {'y_pred': 1,\n",
       "   'y_prob': 8765.27302174919,\n",
       "   'level': 2,\n",
       "   'split': [1, 97405.90909090909],\n",
       "   'n_samples': 2159,\n",
       "   'gain': 2255536.2609175444,\n",
       "   'sl': {'y_pred': 1,\n",
       "    'y_prob': 9916.894201424211,\n",
       "    'level': 3,\n",
       "    'split': -1,\n",
       "    'n_samples': 981,\n",
       "    'gain': 1653234.7266777754},\n",
       "   'sr': {'y_pred': 1,\n",
       "    'y_prob': 7791.058474576271,\n",
       "    'level': 3,\n",
       "    'split': -1,\n",
       "    'n_samples': 1178,\n",
       "    'gain': 1289639.2187613398}},\n",
       "  'sr': {'y_pred': 1,\n",
       "   'y_prob': 12871.387823185989,\n",
       "   'level': 2,\n",
       "   'split': [1, 73275.72727272726],\n",
       "   'n_samples': 1197,\n",
       "   'gain': 2580805.823651254,\n",
       "   'sl': {'y_pred': 1,\n",
       "    'y_prob': 13887.186259541984,\n",
       "    'level': 3,\n",
       "    'split': -1,\n",
       "    'n_samples': 653,\n",
       "    'gain': 919590.2107029557},\n",
       "   'sr': {'y_pred': 1,\n",
       "    'y_prob': 11605.655677655677,\n",
       "    'level': 3,\n",
       "    'split': -1,\n",
       "    'n_samples': 544,\n",
       "    'gain': 1044877.3030008078}}},\n",
       " 'sr': {'y_pred': 1,\n",
       "  'y_prob': 16553.143957428932,\n",
       "  'level': 1,\n",
       "  'split': [0, 2017.0],\n",
       "  'n_samples': 7139,\n",
       "  'gain': 3024805.47488904,\n",
       "  'sl': {'y_pred': 1,\n",
       "   'y_prob': 15982.734693877552,\n",
       "   'level': 2,\n",
       "   'split': [1, 45108.181818181816],\n",
       "   'n_samples': 5878,\n",
       "   'gain': 1263583.1774819493,\n",
       "   'sl': {'y_pred': 1,\n",
       "    'y_prob': 16467.196165536592,\n",
       "    'level': 3,\n",
       "    'split': -1,\n",
       "    'n_samples': 4275,\n",
       "    'gain': 630701.3117169142},\n",
       "   'sr': {'y_pred': 1,\n",
       "    'y_prob': 14671.827414330219,\n",
       "    'level': 3,\n",
       "    'split': -1,\n",
       "    'n_samples': 1603,\n",
       "    'gain': 1125533.8871956468}},\n",
       "  'sr': {'y_pred': 1,\n",
       "   'y_prob': 19182.519398258115,\n",
       "   'level': 2,\n",
       "   'split': [8, 1.0],\n",
       "   'n_samples': 1261,\n",
       "   'gain': 2154029.491327882,\n",
       "   'sl': {'y_pred': 1,\n",
       "    'y_prob': 18754.763619575253,\n",
       "    'level': 3,\n",
       "    'split': -1,\n",
       "    'n_samples': 1081,\n",
       "    'gain': 1256939.9779837132},\n",
       "   'sr': {'y_pred': 1,\n",
       "    'y_prob': 21517.10989010989,\n",
       "    'level': 3,\n",
       "    'split': -1,\n",
       "    'n_samples': 180,\n",
       "    'gain': 1805742.8912305832}}}}"
      ]
     },
     "execution_count": 25,
     "metadata": {},
     "output_type": "execute_result"
    }
   ],
   "source": [
    "tree = tree_grow(X, y, level=0, min_gain=0.001, max_depth=3, num_pct=10)\n",
    "tree"
   ]
  },
  {
   "cell_type": "code",
   "execution_count": 26,
   "metadata": {
    "id": "5bXwHF4q2f3H"
   },
   "outputs": [],
   "source": [
    "# Definición de la función tree_predict para hacer predicciones según las variables 'X' y el árbol 'tree'\n",
    "\n",
    "def tree_predict(X, tree, proba=False):\n",
    "    \n",
    "    predicted = np.ones(X.shape[0])\n",
    "\n",
    "    # Revisar si es el nodo final\n",
    "    if tree['split'] == -1:\n",
    "        if not proba:\n",
    "            predicted = predicted * tree['y_pred']\n",
    "        else:\n",
    "            predicted = predicted * tree['y_prob']\n",
    "            \n",
    "    else:\n",
    "        \n",
    "        j, split = tree['split']\n",
    "        filter_l = (X.iloc[:, j] < split)\n",
    "        X_l = X.loc[filter_l]\n",
    "        X_r = X.loc[~filter_l]\n",
    "\n",
    "        if X_l.shape[0] == 0:  # Si el nodo izquierdo está vacio solo continua con el derecho \n",
    "            predicted[~filter_l] = tree_predict(X_r, tree['sr'], proba)\n",
    "        elif X_r.shape[0] == 0:  #  Si el nodo derecho está vacio solo continua con el izquierdo\n",
    "            predicted[filter_l] = tree_predict(X_l, tree['sl'], proba)\n",
    "        else:\n",
    "            predicted[filter_l] = tree_predict(X_l, tree['sl'], proba)\n",
    "            predicted[~filter_l] = tree_predict(X_r, tree['sr'], proba)\n",
    "\n",
    "    return predicted"
   ]
  },
  {
   "cell_type": "code",
   "execution_count": 27,
   "metadata": {
    "colab": {
     "base_uri": "https://localhost:8080/"
    },
    "id": "z7qUWfXJ2kEI",
    "outputId": "2ade6eb4-ce16-489a-c31e-4869f4fc178c"
   },
   "outputs": [],
   "source": [
    "# Ejecución de función tree_predict\n",
    "pred = tree_predict(X, tree)"
   ]
  },
  {
   "cell_type": "markdown",
   "metadata": {},
   "source": [
    "## Métricas árbol de decisión manual"
   ]
  },
  {
   "cell_type": "code",
   "execution_count": 28,
   "metadata": {},
   "outputs": [
    {
     "data": {
      "text/plain": [
       "14537.403716055265"
      ]
     },
     "execution_count": 28,
     "metadata": {},
     "output_type": "execute_result"
    }
   ],
   "source": [
    "# MAE - error absoluto medio\n",
    "ADM_MAE = mean_absolute_error(y,pred)\n",
    "ADM_MAE"
   ]
  },
  {
   "cell_type": "code",
   "execution_count": 29,
   "metadata": {},
   "outputs": [
    {
     "data": {
      "text/plain": [
       "99.99241963513767"
      ]
     },
     "execution_count": 29,
     "metadata": {},
     "output_type": "execute_result"
    }
   ],
   "source": [
    "# MAPE - error porcentual absoluto medio\n",
    "ADM_MAPE = mean_absolute_percentage_error(y,pred) * 100\n",
    "ADM_MAPE"
   ]
  },
  {
   "cell_type": "code",
   "execution_count": 30,
   "metadata": {},
   "outputs": [
    {
     "data": {
      "text/plain": [
       "226720027.0271558"
      ]
     },
     "execution_count": 30,
     "metadata": {},
     "output_type": "execute_result"
    }
   ],
   "source": [
    "# MSE - error cuadrático medio\n",
    "ADM_MSE = mean_squared_error(y,pred)\n",
    "ADM_MSE"
   ]
  },
  {
   "cell_type": "code",
   "execution_count": 31,
   "metadata": {
    "code_folding": []
   },
   "outputs": [
    {
     "data": {
      "text/plain": [
       "15057.225077256293"
      ]
     },
     "execution_count": 31,
     "metadata": {},
     "output_type": "execute_result"
    }
   ],
   "source": [
    "# RMSE: raiz cuadrada del error cuadrático medio\n",
    "ADM_RMSE = mean_squared_error(y,pred, squared= False)\n",
    "ADM_RMSE"
   ]
  },
  {
   "cell_type": "markdown",
   "metadata": {
    "id": "NMEx4_Wx0R-z"
   },
   "source": [
    "# Punto 2 - Bagging manual\n",
    "\n",
    "En la celda 2 creen un modelo bagging **manualmente** con 10 árboles de regresión y comenten sobre el desempeño del modelo."
   ]
  },
  {
   "cell_type": "code",
   "execution_count": 32,
   "metadata": {
    "colab": {
     "base_uri": "https://localhost:8080/"
    },
    "id": "DU8KenyU0R-z",
    "outputId": "a31fd633-77a6-4afe-d8c7-093656487b99"
   },
   "outputs": [
    {
     "name": "stdout",
     "output_type": "stream",
     "text": [
      "Arreglo: [ 1  2  3  4  5  6  7  8  9 10 11 12 13 14 15 16 17 18 19 20]\n",
      "Muestreo aleatorio:  [ 6 12 13  9 10 12  6 16  1 17  2 13  8 14  7 19  6 19 12 11]\n"
     ]
    }
   ],
   "source": [
    "# Se crea un arreglo de 1 a 20\n",
    "np.random.seed(1)\n",
    "\n",
    "# Impresión de arreglo y muestreo aleatorio\n",
    "nums = np.arange(1, 21)\n",
    "print('Arreglo:', nums)\n",
    "print('Muestreo aleatorio: ', np.random.choice(a=nums, size=20, replace=True))"
   ]
  },
  {
   "cell_type": "code",
   "execution_count": 33,
   "metadata": {
    "id": "08d6cJ20DYnB"
   },
   "outputs": [
    {
     "data": {
      "text/plain": [
       "[array([3582, 3454, 1346, ...,  826,  801, 5657]),\n",
       " array([6962, 3408, 2553, ..., 6611,  877, 6412]),\n",
       " array([1917, 3131,  384, ..., 2876, 6449, 6557]),\n",
       " array([3849, 4565, 6820, ..., 6835, 4643,  639]),\n",
       " array([2468, 3608, 1367, ..., 3108, 2961, 4357]),\n",
       " array([3142, 1537, 5966, ..., 3224, 6922, 3396]),\n",
       " array([6588, 3753, 1786, ..., 2131, 4627, 5672]),\n",
       " array([1289, 3776,  981, ..., 1891, 6034, 6165]),\n",
       " array([6079, 3819, 6976, ..., 6478, 2225, 5072]),\n",
       " array([3952, 3276,  896, ..., 4589, 1964,  893])]"
      ]
     },
     "execution_count": 33,
     "metadata": {},
     "output_type": "execute_result"
    }
   ],
   "source": [
    "#Creación de muestras\n",
    "np.random.seed(123)\n",
    "n_samples=XTrain.shape[0]\n",
    "n_B=10\n",
    "samples=[np.random.choice(a=n_samples, size=n_samples, replace= True) for _ in range (1,n_B+1)]\n",
    "samples"
   ]
  },
  {
   "cell_type": "code",
   "execution_count": 34,
   "metadata": {},
   "outputs": [
    {
     "data": {
      "text/plain": [
       "318288    18495\n",
       "333638    10891\n",
       "234716    18994\n",
       "208752    13691\n",
       "348892    19999\n",
       "          ...  \n",
       "218085     9995\n",
       "198455    12898\n",
       "205572     8988\n",
       "33541     18995\n",
       "274804    19103\n",
       "Name: Price, Length: 7031, dtype: int64"
      ]
     },
     "execution_count": 34,
     "metadata": {},
     "output_type": "execute_result"
    }
   ],
   "source": [
    "yTrain"
   ]
  },
  {
   "cell_type": "code",
   "execution_count": 35,
   "metadata": {
    "scrolled": true
   },
   "outputs": [
    {
     "data": {
      "text/html": [
       "<div>\n",
       "<style scoped>\n",
       "    .dataframe tbody tr th:only-of-type {\n",
       "        vertical-align: middle;\n",
       "    }\n",
       "\n",
       "    .dataframe tbody tr th {\n",
       "        vertical-align: top;\n",
       "    }\n",
       "\n",
       "    .dataframe thead tr th {\n",
       "        text-align: left;\n",
       "    }\n",
       "</style>\n",
       "<table border=\"1\" class=\"dataframe\">\n",
       "  <thead>\n",
       "    <tr>\n",
       "      <th></th>\n",
       "      <th>0</th>\n",
       "      <th>1</th>\n",
       "      <th>2</th>\n",
       "      <th>3</th>\n",
       "      <th>4</th>\n",
       "      <th>5</th>\n",
       "      <th>6</th>\n",
       "      <th>7</th>\n",
       "      <th>8</th>\n",
       "      <th>9</th>\n",
       "    </tr>\n",
       "  </thead>\n",
       "  <tbody>\n",
       "    <tr>\n",
       "      <th>257343</th>\n",
       "      <td>11310.000000</td>\n",
       "      <td>16624.5</td>\n",
       "      <td>6990.0</td>\n",
       "      <td>17119.000000</td>\n",
       "      <td>5900.000000</td>\n",
       "      <td>15749.0</td>\n",
       "      <td>15796.666667</td>\n",
       "      <td>14995.0</td>\n",
       "      <td>11597.5</td>\n",
       "      <td>13391.500000</td>\n",
       "    </tr>\n",
       "    <tr>\n",
       "      <th>326011</th>\n",
       "      <td>16946.500000</td>\n",
       "      <td>13722.5</td>\n",
       "      <td>19807.0</td>\n",
       "      <td>14034.333333</td>\n",
       "      <td>12918.000000</td>\n",
       "      <td>17546.0</td>\n",
       "      <td>11860.500000</td>\n",
       "      <td>16025.0</td>\n",
       "      <td>12965.0</td>\n",
       "      <td>17699.000000</td>\n",
       "    </tr>\n",
       "    <tr>\n",
       "      <th>242354</th>\n",
       "      <td>20700.000000</td>\n",
       "      <td>16120.0</td>\n",
       "      <td>16379.0</td>\n",
       "      <td>14572.000000</td>\n",
       "      <td>11148.500000</td>\n",
       "      <td>11498.0</td>\n",
       "      <td>17397.500000</td>\n",
       "      <td>14999.0</td>\n",
       "      <td>14805.0</td>\n",
       "      <td>16116.333333</td>\n",
       "    </tr>\n",
       "    <tr>\n",
       "      <th>266376</th>\n",
       "      <td>12456.666667</td>\n",
       "      <td>17990.0</td>\n",
       "      <td>18995.0</td>\n",
       "      <td>18500.000000</td>\n",
       "      <td>15000.000000</td>\n",
       "      <td>11433.5</td>\n",
       "      <td>10959.000000</td>\n",
       "      <td>12993.0</td>\n",
       "      <td>13995.0</td>\n",
       "      <td>12955.000000</td>\n",
       "    </tr>\n",
       "    <tr>\n",
       "      <th>396954</th>\n",
       "      <td>12456.666667</td>\n",
       "      <td>17990.0</td>\n",
       "      <td>13495.0</td>\n",
       "      <td>12900.000000</td>\n",
       "      <td>15000.000000</td>\n",
       "      <td>11433.5</td>\n",
       "      <td>17500.000000</td>\n",
       "      <td>16000.0</td>\n",
       "      <td>16991.0</td>\n",
       "      <td>12955.000000</td>\n",
       "    </tr>\n",
       "    <tr>\n",
       "      <th>...</th>\n",
       "      <td>...</td>\n",
       "      <td>...</td>\n",
       "      <td>...</td>\n",
       "      <td>...</td>\n",
       "      <td>...</td>\n",
       "      <td>...</td>\n",
       "      <td>...</td>\n",
       "      <td>...</td>\n",
       "      <td>...</td>\n",
       "      <td>...</td>\n",
       "    </tr>\n",
       "    <tr>\n",
       "      <th>144298</th>\n",
       "      <td>9430.000000</td>\n",
       "      <td>17777.0</td>\n",
       "      <td>18400.0</td>\n",
       "      <td>12973.000000</td>\n",
       "      <td>15496.666667</td>\n",
       "      <td>9350.0</td>\n",
       "      <td>13855.000000</td>\n",
       "      <td>11179.0</td>\n",
       "      <td>17370.0</td>\n",
       "      <td>14230.500000</td>\n",
       "    </tr>\n",
       "    <tr>\n",
       "      <th>364521</th>\n",
       "      <td>15295.000000</td>\n",
       "      <td>14697.5</td>\n",
       "      <td>11500.0</td>\n",
       "      <td>15529.666667</td>\n",
       "      <td>12046.666667</td>\n",
       "      <td>16764.0</td>\n",
       "      <td>9990.000000</td>\n",
       "      <td>12147.5</td>\n",
       "      <td>9777.0</td>\n",
       "      <td>19491.000000</td>\n",
       "    </tr>\n",
       "    <tr>\n",
       "      <th>120072</th>\n",
       "      <td>15394.000000</td>\n",
       "      <td>12825.0</td>\n",
       "      <td>7995.0</td>\n",
       "      <td>13899.000000</td>\n",
       "      <td>12449.000000</td>\n",
       "      <td>18991.0</td>\n",
       "      <td>10903.500000</td>\n",
       "      <td>16699.0</td>\n",
       "      <td>11399.5</td>\n",
       "      <td>16699.000000</td>\n",
       "    </tr>\n",
       "    <tr>\n",
       "      <th>99878</th>\n",
       "      <td>14692.000000</td>\n",
       "      <td>19777.0</td>\n",
       "      <td>15385.0</td>\n",
       "      <td>16941.000000</td>\n",
       "      <td>16689.500000</td>\n",
       "      <td>19535.0</td>\n",
       "      <td>15995.000000</td>\n",
       "      <td>15988.0</td>\n",
       "      <td>9995.0</td>\n",
       "      <td>16988.000000</td>\n",
       "    </tr>\n",
       "    <tr>\n",
       "      <th>387162</th>\n",
       "      <td>14988.000000</td>\n",
       "      <td>12995.0</td>\n",
       "      <td>15883.0</td>\n",
       "      <td>9897.500000</td>\n",
       "      <td>14995.000000</td>\n",
       "      <td>11816.5</td>\n",
       "      <td>19050.000000</td>\n",
       "      <td>13995.0</td>\n",
       "      <td>19000.0</td>\n",
       "      <td>16924.750000</td>\n",
       "    </tr>\n",
       "  </tbody>\n",
       "</table>\n",
       "<p>3464 rows × 10 columns</p>\n",
       "</div>"
      ],
      "text/plain": [
       "                   0        1        2             3             4        5  \\\n",
       "257343  11310.000000  16624.5   6990.0  17119.000000   5900.000000  15749.0   \n",
       "326011  16946.500000  13722.5  19807.0  14034.333333  12918.000000  17546.0   \n",
       "242354  20700.000000  16120.0  16379.0  14572.000000  11148.500000  11498.0   \n",
       "266376  12456.666667  17990.0  18995.0  18500.000000  15000.000000  11433.5   \n",
       "396954  12456.666667  17990.0  13495.0  12900.000000  15000.000000  11433.5   \n",
       "...              ...      ...      ...           ...           ...      ...   \n",
       "144298   9430.000000  17777.0  18400.0  12973.000000  15496.666667   9350.0   \n",
       "364521  15295.000000  14697.5  11500.0  15529.666667  12046.666667  16764.0   \n",
       "120072  15394.000000  12825.0   7995.0  13899.000000  12449.000000  18991.0   \n",
       "99878   14692.000000  19777.0  15385.0  16941.000000  16689.500000  19535.0   \n",
       "387162  14988.000000  12995.0  15883.0   9897.500000  14995.000000  11816.5   \n",
       "\n",
       "                   6        7        8             9  \n",
       "257343  15796.666667  14995.0  11597.5  13391.500000  \n",
       "326011  11860.500000  16025.0  12965.0  17699.000000  \n",
       "242354  17397.500000  14999.0  14805.0  16116.333333  \n",
       "266376  10959.000000  12993.0  13995.0  12955.000000  \n",
       "396954  17500.000000  16000.0  16991.0  12955.000000  \n",
       "...              ...      ...      ...           ...  \n",
       "144298  13855.000000  11179.0  17370.0  14230.500000  \n",
       "364521   9990.000000  12147.5   9777.0  19491.000000  \n",
       "120072  10903.500000  16699.0  11399.5  16699.000000  \n",
       "99878   15995.000000  15988.0   9995.0  16988.000000  \n",
       "387162  19050.000000  13995.0  19000.0  16924.750000  \n",
       "\n",
       "[3464 rows x 10 columns]"
      ]
     },
     "execution_count": 35,
     "metadata": {},
     "output_type": "execute_result"
    }
   ],
   "source": [
    "from sklearn.tree import DecisionTreeRegressor\n",
    "\n",
    "# Definición del modelo usando DecisionTreeRegressor de sklearn\n",
    "treereg = DecisionTreeRegressor(max_depth=None, random_state=123)\n",
    "\n",
    "# DataFrame para guardar las predicciones de cada árbol\n",
    "y_pred = pd.DataFrame(index=XTest.index, columns=[list(range(n_B))])\n",
    "\n",
    "X_test = XTest.iloc[:, 1:]\n",
    "\n",
    "# Entrenamiento de un árbol sobre cada muestra boostrap y predicción sobre los datos de test\n",
    "for i, sample in enumerate(samples):\n",
    "    X_train = XTrain.iloc[sample, 1:]\n",
    "    y_train = yTrain\n",
    "    treereg.fit(X_train, y_train)\n",
    "    y_pred.iloc[:,i] = treereg.predict(X_test)\n",
    "    \n",
    "y_pred"
   ]
  },
  {
   "cell_type": "code",
   "execution_count": 36,
   "metadata": {},
   "outputs": [
    {
     "name": "stdout",
     "output_type": "stream",
     "text": [
      "Árbol  0 tiene un error:  5264.716763150775\n",
      "Árbol  1 tiene un error:  5248.137053050157\n",
      "Árbol  2 tiene un error:  5320.212427607175\n",
      "Árbol  3 tiene un error:  5152.545285067443\n",
      "Árbol  4 tiene un error:  5198.410049087363\n",
      "Árbol  5 tiene un error:  5233.18425233733\n",
      "Árbol  6 tiene un error:  5296.66381920869\n",
      "Árbol  7 tiene un error:  5156.821020490288\n",
      "Árbol  8 tiene un error:  5264.635167537064\n",
      "Árbol  9 tiene un error:  5188.748101488872\n"
     ]
    }
   ],
   "source": [
    "# Desempeño de cada árbol\n",
    "for i in range(n_B):\n",
    "    print('Árbol ', i, 'tiene un error: ', np.sqrt(mean_squared_error(y_pred.iloc[:,i], yTest)))"
   ]
  },
  {
   "cell_type": "code",
   "execution_count": 37,
   "metadata": {},
   "outputs": [
    {
     "data": {
      "text/plain": [
       "257343    12947.316667\n",
       "326011    15352.383333\n",
       "242354    15373.533333\n",
       "266376    14527.716667\n",
       "396954    14672.116667\n",
       "              ...     \n",
       "144298    14006.116667\n",
       "364521    13723.833333\n",
       "120072    13725.400000\n",
       "99878     16198.550000\n",
       "387162    14954.475000\n",
       "Length: 3464, dtype: float64"
      ]
     },
     "execution_count": 37,
     "metadata": {},
     "output_type": "execute_result"
    }
   ],
   "source": [
    "# Predicciones promedio para cada obserbación del set de test\n",
    "y_pred.mean(axis=1)"
   ]
  },
  {
   "cell_type": "code",
   "execution_count": 38,
   "metadata": {},
   "outputs": [
    {
     "data": {
      "text/plain": [
       "4062.5177927149452"
      ]
     },
     "execution_count": 38,
     "metadata": {},
     "output_type": "execute_result"
    }
   ],
   "source": [
    "# Error al promediar las predicciones de todos los árboles\n",
    "np.sqrt(mean_squared_error(yTest, y_pred.mean(axis=1)))"
   ]
  },
  {
   "cell_type": "markdown",
   "metadata": {
    "id": "XAs976D40R-z"
   },
   "source": [
    "# Punto 3 - Bagging con librería\n",
    "\n",
    "En la celda 3, con la librería sklearn, entrenen un modelo bagging con 10 árboles de regresión y el parámetro `max_features` igual a `log(n_features)` y comenten sobre el desempeño del modelo."
   ]
  },
  {
   "cell_type": "code",
   "execution_count": 39,
   "metadata": {
    "id": "sHz107le0R-0"
   },
   "outputs": [],
   "source": [
    "# Uso de BaggingRegressor de la libreria (sklearn) donde se usa el modelo DecisionTreeRegressor como estimador\n",
    "bagreg = BaggingRegressor(DecisionTreeRegressor(max_depth=10), n_estimators=500, \n",
    "                          bootstrap=True, oob_score=True, random_state=1)"
   ]
  },
  {
   "cell_type": "code",
   "execution_count": 40,
   "metadata": {
    "colab": {
     "base_uri": "https://localhost:8080/"
    },
    "id": "LUxotFWymHbV",
    "outputId": "84be6bd7-5b0b-4294-bfb2-ec22e2f9b9f1"
   },
   "outputs": [
    {
     "data": {
      "text/plain": [
       "array([12903.85636075,  6759.86510591, 16138.09827676, ...,\n",
       "       19252.36931538, 12591.43560863, 11773.88429622])"
      ]
     },
     "execution_count": 40,
     "metadata": {},
     "output_type": "execute_result"
    }
   ],
   "source": [
    "bagreg.fit(XTrain, yTrain)\n",
    "yPred = bagreg.predict(XTest)\n",
    "yPred"
   ]
  },
  {
   "cell_type": "code",
   "execution_count": 41,
   "metadata": {
    "colab": {
     "base_uri": "https://localhost:8080/"
    },
    "id": "6gksdrRBmdia",
    "outputId": "b7f5d938-a754-47c8-ee7c-71bff41fc1a2"
   },
   "outputs": [
    {
     "data": {
      "text/plain": [
       "1581.369601711954"
      ]
     },
     "execution_count": 41,
     "metadata": {},
     "output_type": "execute_result"
    }
   ],
   "source": [
    "# Cálculo del error del modelo\n",
    "np.sqrt(mean_squared_error(yTest, yPred))"
   ]
  },
  {
   "cell_type": "markdown",
   "metadata": {
    "id": "mp25DGfa0R-0"
   },
   "source": [
    "# Punto 4 - Random forest con librería\n",
    "\n",
    "En la celda 4, usando la librería sklearn entrenen un modelo de Randon Forest para regresión  y comenten sobre el desempeño del modelo."
   ]
  },
  {
   "cell_type": "code",
   "execution_count": 42,
   "metadata": {
    "id": "turAeGvd0R-0"
   },
   "outputs": [],
   "source": [
    "rfreg = RandomForestRegressor(n_estimators=500, \n",
    "                          bootstrap=True, oob_score=True, random_state=1)"
   ]
  },
  {
   "cell_type": "code",
   "execution_count": 43,
   "metadata": {
    "colab": {
     "base_uri": "https://localhost:8080/"
    },
    "id": "XQ78RcLeEK99",
    "outputId": "c12d1a61-2abb-4229-bc5f-8de5b2589001"
   },
   "outputs": [
    {
     "data": {
      "text/plain": [
       "array([13246.402,  6607.938, 16407.63 , ..., 21716.338, 12916.148,\n",
       "       11780.504])"
      ]
     },
     "execution_count": 43,
     "metadata": {},
     "output_type": "execute_result"
    }
   ],
   "source": [
    "# Entrenemiento del modelo con set de entrenamiento y predicción en el set de test\n",
    "rfreg.fit(XTrain, yTrain)\n",
    "yPredR = rfreg.predict(XTest)\n",
    "yPredR"
   ]
  },
  {
   "cell_type": "code",
   "execution_count": 76,
   "metadata": {
    "colab": {
     "base_uri": "https://localhost:8080/"
    },
    "id": "pLHSTZBMEbxb",
    "outputId": "39b91f5b-e455-45cf-866a-bc533f44b3dc"
   },
   "outputs": [
    {
     "data": {
      "text/plain": [
       "1757.1484761031036"
      ]
     },
     "execution_count": 76,
     "metadata": {},
     "output_type": "execute_result"
    }
   ],
   "source": [
    "# Cálculo del error del modelo\n",
    "Error_RF=np.sqrt(mean_squared_error(yTest, yPredR))\n",
    "Error_RF"
   ]
  },
  {
   "cell_type": "markdown",
   "metadata": {
    "id": "T6czPyPr0R-0"
   },
   "source": [
    "# Punto 5 - Calibración de parámetros Random forest\n",
    "\n",
    "En la celda 5, calibren los parámetros max_depth, max_features y n_estimators del modelo de Randon Forest para regresión, comenten sobre el desempeño del modelo y describan cómo cada parámetro afecta el desempeño del modelo."
   ]
  },
  {
   "cell_type": "markdown",
   "metadata": {},
   "source": [
    "### Calibración de n_estimators\n",
    "\n",
    "**n_estimators** es la cantidad de árboles a contruir dentro del bosque aleatorio."
   ]
  },
  {
   "cell_type": "code",
   "execution_count": 45,
   "metadata": {},
   "outputs": [
    {
     "data": {
      "text/plain": [
       "RandomForestRegressor()"
      ]
     },
     "execution_count": 45,
     "metadata": {},
     "output_type": "execute_result"
    }
   ],
   "source": [
    "# Definición de modelo Random Forest para un problema de regresión\n",
    "reg = RandomForestRegressor()\n",
    "reg"
   ]
  },
  {
   "cell_type": "code",
   "execution_count": 46,
   "metadata": {
    "id": "22wl3nMeLs0M"
   },
   "outputs": [],
   "source": [
    "# Creación de lista de valores para iterar sobre diferentes valores de n_estimators\n",
    "estimator_range = range(10, 400, 10)\n",
    "\n",
    "# Definición de lista para almacenar la exactitud (accuracy) promedio para cada valor de n_estimators\n",
    "accuracy_scores1 = []\n",
    "\n",
    "# Uso de un 5-fold cross-validation para cada valor de n_estimators\n",
    "for estimator in estimator_range:\n",
    "    rfreg = RandomForestRegressor(n_estimators=estimator, max_depth=4,  random_state=1, n_jobs=-1)\n",
    "    accuracy_scores1.append(cross_val_score(rfreg, X, y, cv=5, scoring='neg_mean_absolute_error').mean())\n",
    "      "
   ]
  },
  {
   "cell_type": "code",
   "execution_count": 47,
   "metadata": {
    "colab": {
     "base_uri": "https://localhost:8080/",
     "height": 467
    },
    "id": "zMEuK6ErLtLm",
    "outputId": "86749360-0682-48eb-82a5-104b1ecb94c9"
   },
   "outputs": [
    {
     "data": {
      "text/plain": [
       "Text(0, 0.5, 'Accuracy')"
      ]
     },
     "execution_count": 47,
     "metadata": {},
     "output_type": "execute_result"
    },
    {
     "data": {
      "image/png": "[encoded data removed]",
      "text/plain": [
       "<Figure size 432x288 with 1 Axes>"
      ]
     },
     "metadata": {
      "needs_background": "light"
     },
     "output_type": "display_data"
    }
   ],
   "source": [
    "# Gráfica del desempeño del modelo vs la cantidad de n_estimators\n",
    "plt.plot(estimator_range, accuracy_scores1)\n",
    "plt.xlabel('n_estimators')\n",
    "plt.ylabel('Accuracy')"
   ]
  },
  {
   "cell_type": "markdown",
   "metadata": {},
   "source": [
    "### Calibracióm max_features\n",
    "\n",
    "**max_features** es el número de variables que se deben considerar en cada árbol."
   ]
  },
  {
   "cell_type": "code",
   "execution_count": 48,
   "metadata": {
    "id": "WdgnnAIaLgJv"
   },
   "outputs": [],
   "source": [
    "# Creación de lista de valores para iterar sobre diferentes valores de max_features\n",
    "feature_range = range(1, 30)\n",
    "\n",
    "# Definición de lista para almacenar la exactitud (accuracy) promedio para cada valor de max_features\n",
    "accuracy_scores2 = []\n",
    "\n",
    "# Uso de un 10-fold cross-validation para cada valor de max_features\n",
    "for feature in feature_range:\n",
    "    rfreg2 = RandomForestRegressor(n_estimators=10, max_features=feature, max_depth=4, random_state=1, n_jobs=-1)\n",
    "    accuracy_scores2.append(cross_val_score(rfreg2, X, y, cv=5, scoring='neg_mean_absolute_error').mean())\n"
   ]
  },
  {
   "cell_type": "code",
   "execution_count": 49,
   "metadata": {
    "id": "uSCvggufLjB5"
   },
   "outputs": [
    {
     "data": {
      "text/plain": [
       "Text(0, 0.5, 'Accuracy')"
      ]
     },
     "execution_count": 49,
     "metadata": {},
     "output_type": "execute_result"
    },
    {
     "data": {
      "image/png": "[encoded data removed]",
      "text/plain": [
       "<Figure size 432x288 with 1 Axes>"
      ]
     },
     "metadata": {
      "needs_background": "light"
     },
     "output_type": "display_data"
    }
   ],
   "source": [
    "# Gráfica del desempeño del modelo vs la cantidad de max_features\n",
    "plt.plot(feature_range, accuracy_scores2)\n",
    "plt.xlabel('max_features')\n",
    "plt.ylabel('Accuracy')"
   ]
  },
  {
   "cell_type": "markdown",
   "metadata": {
    "id": "0MMhbJhX0R-1"
   },
   "source": [
    "# Punto 6 - XGBoost con librería\n",
    "\n",
    "En la celda 6 implementen un modelo XGBoost de regresión con la librería sklearn y comenten sobre el desempeño del modelo."
   ]
  },
  {
   "cell_type": "code",
   "execution_count": 50,
   "metadata": {
    "colab": {
     "base_uri": "https://localhost:8080/",
     "height": 244
    },
    "id": "IKp8pmWI0R-1",
    "outputId": "9aa6baa3-86c7-4c05-fb75-4fe8646a8c14"
   },
   "outputs": [
    {
     "data": {
      "text/plain": [
       "XGBRegressor(base_score=None, booster=None, callbacks=None,\n",
       "             colsample_bylevel=None, colsample_bynode=None,\n",
       "             colsample_bytree=0.8, early_stopping_rounds=None,\n",
       "             enable_categorical=False, eta=0.1, eval_metric=None,\n",
       "             feature_types=None, gamma=None, gpu_id=None, grow_policy=None,\n",
       "             importance_type=None, interaction_constraints=None,\n",
       "             learning_rate=None, max_bin=None, max_cat_threshold=None,\n",
       "             max_cat_to_onehot=None, max_delta_step=None, max_depth=7,\n",
       "             max_leaves=None, min_child_weight=None, missing=nan,\n",
       "             monotone_constraints=None, n_estimators=1000, n_jobs=None,\n",
       "             num_parallel_tree=None, predictor=None, ...)"
      ]
     },
     "execution_count": 50,
     "metadata": {},
     "output_type": "execute_result"
    }
   ],
   "source": [
    "# Celda 6\n",
    "xbrgr = XGBRegressor(n_estimators=1000, max_depth=7, eta=0.1, subsample=0.7, colsample_bytree=0.8)\n",
    "xbrgr"
   ]
  },
  {
   "cell_type": "code",
   "execution_count": 51,
   "metadata": {
    "id": "u-w9vJ4OtAUA"
   },
   "outputs": [],
   "source": [
    "# Entrenamiento (fit) y desempeño del modelo XGBRegressor\n",
    "xbrgr.fit(XTrain, yTrain)\n",
    "yPredX = xbrgr.predict(XTest)"
   ]
  },
  {
   "cell_type": "markdown",
   "metadata": {},
   "source": [
    "## Métricas XGBoost con librería"
   ]
  },
  {
   "cell_type": "code",
   "execution_count": 52,
   "metadata": {},
   "outputs": [
    {
     "data": {
      "text/plain": [
       "1282.8252084216674"
      ]
     },
     "execution_count": 52,
     "metadata": {},
     "output_type": "execute_result"
    }
   ],
   "source": [
    "# MAE - error absoluto medio\n",
    "XGBL_MAE = mean_absolute_error(yTest,yPredX)\n",
    "XGBL_MAE"
   ]
  },
  {
   "cell_type": "code",
   "execution_count": 53,
   "metadata": {},
   "outputs": [
    {
     "data": {
      "text/plain": [
       "9.342237363068199"
      ]
     },
     "execution_count": 53,
     "metadata": {},
     "output_type": "execute_result"
    }
   ],
   "source": [
    "# MAPE - error porcentual absoluto medio\n",
    "XGBL_MAPE = mean_absolute_percentage_error(yTest,yPredX) * 100\n",
    "XGBL_MAPE"
   ]
  },
  {
   "cell_type": "code",
   "execution_count": 54,
   "metadata": {},
   "outputs": [
    {
     "data": {
      "text/plain": [
       "3035430.03354127"
      ]
     },
     "execution_count": 54,
     "metadata": {},
     "output_type": "execute_result"
    }
   ],
   "source": [
    "# MSE - error cuadrático medio\n",
    "XGBL_MSE = mean_squared_error(yTest,yPredX)\n",
    "XGBL_MSE"
   ]
  },
  {
   "cell_type": "code",
   "execution_count": 55,
   "metadata": {},
   "outputs": [
    {
     "data": {
      "text/plain": [
       "1742.2485567625733"
      ]
     },
     "execution_count": 55,
     "metadata": {},
     "output_type": "execute_result"
    }
   ],
   "source": [
    "# RMSE: raiz cuadrada del error cuadrático medio\n",
    "XGBL_RMSE = mean_squared_error(yTest,yPredX, squared= False)\n",
    "XGBL_RMSE"
   ]
  },
  {
   "cell_type": "markdown",
   "metadata": {
    "id": "27ZRpkYu0R-1"
   },
   "source": [
    "# Punto 7 - Calibración de parámetros XGBoost\n",
    "\n",
    "En la celda 7 calibren los parámetros learning rate, gamma y colsample_bytree del modelo XGBoost para regresión, comenten sobre el desempeño del modelo y describan cómo cada parámetro afecta el desempeño del modelo."
   ]
  },
  {
   "cell_type": "code",
   "execution_count": 56,
   "metadata": {},
   "outputs": [
    {
     "name": "stdout",
     "output_type": "stream",
     "text": [
      "Valor óptimo de n_estimators: 51\n"
     ]
    },
    {
     "data": {
      "image/png": "[encoded data removed]",
      "text/plain": [
       "<Figure size 432x276.48 with 1 Axes>"
      ]
     },
     "metadata": {
      "needs_background": "light"
     },
     "output_type": "display_data"
    }
   ],
   "source": [
    "# Se identifica la mejor cantidad de árboles a utilizar (n_estimators).\n",
    "\n",
    "# Validación empleando k-cross-validation y neg_root_mean_squared_error\n",
    "train_scores = []\n",
    "cv_scores    = []\n",
    "\n",
    "# Valores evaluados\n",
    "estimator_range = range(1, 1000, 25)\n",
    "\n",
    "# Bucle para entrenar un modelo con cada valor de n_estimators y extraer su error\n",
    "# de entrenamiento y de k-cross-validation.\n",
    "for n_estimators in estimator_range:\n",
    "    \n",
    "    modelo = XGBRegressor(\n",
    "                n_estimators = n_estimators, \n",
    "                max_depth=7, \n",
    "                eta=0.1, \n",
    "                subsample=0.7, \n",
    "                colsample_bytree=0.8\n",
    "            )\n",
    "    \n",
    "    # Error de train\n",
    "    modelo.fit(XTrain, yTrain)\n",
    "    predicciones = modelo.predict(X = XTrain)\n",
    "    rmse = mean_squared_error(\n",
    "            y_true  = yTrain,\n",
    "            y_pred  = predicciones,\n",
    "            squared = False\n",
    "           )\n",
    "    train_scores.append(rmse)\n",
    "    \n",
    "    # Error de validación cruzada\n",
    "    scores = cross_val_score(\n",
    "                estimator = modelo,\n",
    "                X         = XTrain,\n",
    "                y         = yTrain,\n",
    "                scoring   = 'neg_root_mean_squared_error',\n",
    "                cv        = 5,\n",
    "                n_jobs    = -1\n",
    "             )\n",
    "    # Se agregan los scores de cross_val_score() y se pasa a positivo\n",
    "    cv_scores.append(-1*scores.mean())\n",
    "    \n",
    "# Gráfico con la evolución de los errores\n",
    "fig, ax = plt.subplots(figsize=(6, 3.84))\n",
    "ax.plot(estimator_range, train_scores, label=\"train scores\")\n",
    "ax.plot(estimator_range, cv_scores, label=\"cv scores\")\n",
    "ax.plot(estimator_range[np.argmin(cv_scores)], min(cv_scores),\n",
    "        marker='o', color = \"red\", label=\"min score\")\n",
    "ax.set_ylabel(\"root_mean_squared_error\")\n",
    "ax.set_xlabel(\"n_estimators\")\n",
    "ax.set_title(\"Evolución del cv-error vs número árboles\")\n",
    "plt.legend();\n",
    "print(f\"Valor óptimo de n_estimators: {estimator_range[np.argmin(cv_scores)]}\")"
   ]
  },
  {
   "cell_type": "markdown",
   "metadata": {},
   "source": [
    "Los valores estimados por validación cruzada muestran que a partir de los 50 árboles el error del modelo se estabiliza. Se Consigue un mínimo error con 51 árboles. "
   ]
  },
  {
   "cell_type": "code",
   "execution_count": 57,
   "metadata": {},
   "outputs": [
    {
     "name": "stdout",
     "output_type": "stream",
     "text": [
      "Valor óptimo de max_depth: 5\n"
     ]
    },
    {
     "data": {
      "image/png": "[encoded data removed]",
      "text/plain": [
       "<Figure size 432x276.48 with 1 Axes>"
      ]
     },
     "metadata": {
      "needs_background": "light"
     },
     "output_type": "display_data"
    }
   ],
   "source": [
    "# Se detecta la mejor profundidad para los árboles (max_depth).\n",
    "\n",
    "# Validación empleando k-cross-validation y neg_root_mean_squared_error\n",
    "train_scores = []\n",
    "cv_scores    = []\n",
    "\n",
    "# Valores evaluados\n",
    "max_depths = [5, 10, 15, 20, 25]\n",
    "\n",
    "# Bucle para entrenar un modelo con cada valor de max_depth y extraer su error\n",
    "# de entrenamiento y de k-cross-validation.\n",
    "for max_depth in max_depths:\n",
    "    \n",
    "    modelo = XGBRegressor(\n",
    "                n_estimators = 51, \n",
    "                max_depth = max_depth,\n",
    "                eta=0.1, \n",
    "                subsample=0.7, \n",
    "                colsample_bytree=0.8,\n",
    "            )\n",
    "    \n",
    "    # Error de train\n",
    "    modelo.fit(XTrain, yTrain)\n",
    "    predicciones = modelo.predict(X = XTrain)\n",
    "    rmse = mean_squared_error(\n",
    "            y_true  = yTrain,\n",
    "            y_pred  = predicciones,\n",
    "            squared = False\n",
    "           )\n",
    "    train_scores.append(rmse)\n",
    "    \n",
    "    # Error de validación cruzada\n",
    "    scores = cross_val_score(\n",
    "                estimator = modelo,\n",
    "                X         = XTrain,\n",
    "                y         = yTrain,\n",
    "                scoring   = 'neg_root_mean_squared_error',\n",
    "                cv        = 5,\n",
    "                n_jobs    = -1\n",
    "             )\n",
    "    # Se agregan los scores de cross_val_score() y se pasa a positivo\n",
    "    cv_scores.append(-1*scores.mean())\n",
    "    \n",
    "# Gráfico con la evolución de los errores\n",
    "fig, ax = plt.subplots(figsize=(6, 3.84))\n",
    "ax.plot(max_depths, train_scores, label=\"train scores\")\n",
    "ax.plot(max_depths, cv_scores, label=\"cv scores\")\n",
    "ax.plot(max_depths[np.argmin(cv_scores)], min(cv_scores),\n",
    "        marker='o', color = \"red\", label=\"min score\")\n",
    "ax.set_ylabel(\"root_mean_squared_error\")\n",
    "ax.set_xlabel(\"max_depth\")\n",
    "ax.set_title(\"Evolución del cv-error vs profundidad árboles\")\n",
    "plt.legend();\n",
    "print(f\"Valor óptimo de max_depth: {max_depths[np.argmin(cv_scores)]}\")"
   ]
  },
  {
   "cell_type": "markdown",
   "metadata": {},
   "source": [
    "El valor de profundidad obtenido con la evaluación cruzada es de tres (3)."
   ]
  },
  {
   "cell_type": "code",
   "execution_count": 58,
   "metadata": {},
   "outputs": [
    {
     "data": {
      "image/png": "[encoded data removed]",
      "text/plain": [
       "<Figure size 864x276.48 with 2 Axes>"
      ]
     },
     "metadata": {
      "needs_background": "light"
     },
     "output_type": "display_data"
    }
   ],
   "source": [
    "# Se detecta la mejor velocidad de aprendizaje para el modelo (learning_rate).\n",
    "\n",
    "# Validación empleando k-cross-validation y neg_root_mean_squared_error\n",
    "resultados = {}\n",
    "\n",
    "# Valores evaluados\n",
    "learning_rates = [0.001, 0.01, 0.1]\n",
    "n_estimators   = [10, 20, 100, 200, 300, 400, 500, 1000]\n",
    "\n",
    "\n",
    "# Bucle para entrenar un modelo con cada combinacion de  learning_rate y n_estimator \n",
    "# y extraer su error de entrenamiento y k-cross-validation.\n",
    "for learning_rate in learning_rates:\n",
    "    train_scores = []\n",
    "    cv_scores    = []\n",
    "    \n",
    "    for n_estimator in n_estimators:\n",
    "    \n",
    "        modelo = XGBRegressor(\n",
    "                    n_estimators  = n_estimator,\n",
    "                    learning_rate = learning_rate,\n",
    "                    max_depth = 5,\n",
    "                    eta=0.1,\n",
    "                    subsample=0.7,\n",
    "                    colsample_bytree=0.8\n",
    "                 )\n",
    "\n",
    "        # Error de train\n",
    "        modelo.fit(XTrain, yTrain)\n",
    "        predicciones = modelo.predict(X = XTrain)\n",
    "        rmse = mean_squared_error(\n",
    "                y_true  = yTrain,\n",
    "                y_pred  = predicciones,\n",
    "                squared = False\n",
    "               )\n",
    "        train_scores.append(rmse)\n",
    "\n",
    "        # Error de validación cruzada\n",
    "        scores = cross_val_score(\n",
    "                    estimator = modelo,\n",
    "                    X         = XTrain,\n",
    "                    y         = yTrain,\n",
    "                    scoring   = 'neg_root_mean_squared_error',\n",
    "                    cv        = 3,\n",
    "                    n_jobs    = -1\n",
    "                 )\n",
    "        # Se agregan los scores de cross_val_score() y se pasa a positivo\n",
    "        cv_scores.append(-1*scores.mean())\n",
    "        \n",
    "    resultados[learning_rate] = {'train_scores': train_scores, 'cv_scores': cv_scores}\n",
    "\n",
    "# Gráfico con la evolución de los errores de entrenamiento\n",
    "fig, axs = plt.subplots(nrows=1, ncols=2, figsize=(12, 3.84))\n",
    "\n",
    "for key, value in resultados.items():\n",
    "    axs[0].plot(n_estimators, value['train_scores'], label=f\"Learning rate {key}\")\n",
    "    axs[0].set_ylabel(\"root_mean_squared_error\")\n",
    "    axs[0].set_xlabel(\"n_estimators\")\n",
    "    axs[0].set_title(\"Evolución del train error vs learning rate\")\n",
    "    \n",
    "    axs[1].plot(n_estimators, value['cv_scores'], label=f\"Learning rate {key}\")\n",
    "    axs[1].set_ylabel(\"root_mean_squared_error\")\n",
    "    axs[1].set_xlabel(\"n_estimators\")\n",
    "    axs[1].set_title(\"Evolución del cv-error vs learning rate\")\n",
    "    plt.legend();"
   ]
  },
  {
   "cell_type": "markdown",
   "metadata": {},
   "source": [
    "Los valores estimados por validación cruzada indican que el mejor modelo se consigue con un learning rate de *0.1*. Para evitar el sobre ajuste mantener 50 estimadores es una buena opción."
   ]
  },
  {
   "cell_type": "code",
   "execution_count": 59,
   "metadata": {},
   "outputs": [
    {
     "data": {
      "image/png": "[encoded data removed]",
      "text/plain": [
       "<Figure size 864x276.48 with 2 Axes>"
      ]
     },
     "metadata": {
      "needs_background": "light"
     },
     "output_type": "display_data"
    }
   ],
   "source": [
    "# Se busca el mejor nivel de poda para los árboles la mejor velocidad de aprendizaje para el modelo (gamma).\n",
    "\n",
    "# Validación empleando k-cross-validation y neg_root_mean_squared_error\n",
    "resultados = {}\n",
    "\n",
    "# Valores evaluados\n",
    "\n",
    "n_estimators   = [10, 20, 50, 100, 200]\n",
    "gammas = [0.05,0.1,0.3,0.5,0.7,0.9,1,10]\n",
    "\n",
    "# Bucle para entrenar un modelo con cada combinacion de  gamma y n_estimator \n",
    "# y extraer su error de entrenamiento y k-cross-validation.\n",
    "for gam in gammas:\n",
    "    train_scores = []\n",
    "    cv_scores    = []\n",
    "    \n",
    "    for n_estimator in n_estimators:\n",
    "    \n",
    "        modelo = XGBRegressor(\n",
    "                    n_estimators  = n_estimator,\n",
    "                    learning_rate = 0.1,\n",
    "                    max_depth = 7,\n",
    "                    gamma = gam,\n",
    "                    eta=0.1,\n",
    "                    subsample=0.7,\n",
    "                    colsample_bytree=0.8\n",
    "                 )\n",
    "\n",
    "        # Error de train\n",
    "        modelo.fit(XTrain, yTrain)\n",
    "        predicciones = modelo.predict(X = XTrain)\n",
    "        rmse = mean_squared_error(\n",
    "                y_true  = yTrain,\n",
    "                y_pred  = predicciones,\n",
    "                squared = False\n",
    "               )\n",
    "        train_scores.append(rmse)\n",
    "\n",
    "        # Error de validación cruzada\n",
    "        scores = cross_val_score(\n",
    "                    estimator = modelo,\n",
    "                    X         = XTrain,\n",
    "                    y         = yTrain,\n",
    "                    scoring   = 'neg_root_mean_squared_error',\n",
    "                    cv        = 3,\n",
    "                    n_jobs    = -1\n",
    "                 )\n",
    "        # Se agregan los scores de cross_val_score() y se pasa a positivo\n",
    "        cv_scores.append(-1*scores.mean())\n",
    "        \n",
    "    resultados[gam] = {'train_scores': train_scores, 'cv_scores': cv_scores}\n",
    "\n",
    "# Gráfico con la evolución de los errores de entrenamiento\n",
    "fig, axs = plt.subplots(nrows=1, ncols=2, figsize=(12, 3.84))\n",
    "\n",
    "\n",
    "for key, value in resultados.items():\n",
    "    axs[0].plot(n_estimators, value['train_scores'], label=f\"Gamma {key}\")\n",
    "    axs[0].set_ylabel(\"root_mean_squared_error\")\n",
    "    axs[0].set_xlabel(\"n_estimators\")\n",
    "    axs[0].set_title(\"Evolución del train error vs Gamma\")\n",
    "    \n",
    "    axs[1].plot(n_estimators, value['cv_scores'], label=f\"Gamma {key}\")\n",
    "    axs[1].set_ylabel(\"root_mean_squared_errorb\")\n",
    "    axs[1].set_xlabel(\"n_estimators\")\n",
    "    axs[1].set_title(\"Evolución del cv-error vs Gamma\")\n",
    "    plt.legend();"
   ]
  },
  {
   "cell_type": "markdown",
   "metadata": {},
   "source": [
    "La poda no representa una mejora para el modelo ya que la profundidad de los árboles es baja."
   ]
  },
  {
   "cell_type": "code",
   "execution_count": 60,
   "metadata": {},
   "outputs": [
    {
     "data": {
      "image/png": "[encoded data removed]",
      "text/plain": [
       "<Figure size 864x276.48 with 2 Axes>"
      ]
     },
     "metadata": {
      "needs_background": "light"
     },
     "output_type": "display_data"
    }
   ],
   "source": [
    "# Se detecta el mejor uso al azar de predictoras dentro de los árboles  (colsample_bytree).\n",
    "\n",
    "# Validación empleando k-cross-validation y neg_root_mean_squared_error\n",
    "resultados = {}\n",
    "\n",
    "# Valores evaluados\n",
    "colsamples = [0, 0.5, 0.8, 0.9, 1]\n",
    "n_estimators   = [10, 20, 50, 100]\n",
    "\n",
    "\n",
    "# Bucle para entrenar un modelo con cada combinacion de  colsample_bytree y n_estimator \n",
    "# y extraer su error de entrenamiento y k-cross-validation.\n",
    "for colsample in colsamples:\n",
    "    train_scores = []\n",
    "    cv_scores    = []\n",
    "    \n",
    "    for n_estimator in n_estimators:\n",
    "    \n",
    "        modelo = XGBRegressor(\n",
    "                    n_estimators  = n_estimator,\n",
    "                    learning_rate = 0.1,\n",
    "                    max_depth = 5,\n",
    "                    eta=0.1,\n",
    "                    subsample=0.7,\n",
    "                    gamma = 10,\n",
    "                    colsample_bytree = colsample\n",
    "                 )\n",
    "\n",
    "        # Error de train\n",
    "        modelo.fit(XTrain, yTrain)\n",
    "        predicciones = modelo.predict(X = XTrain)\n",
    "        rmse = mean_squared_error(\n",
    "                y_true  = yTrain,\n",
    "                y_pred  = predicciones,\n",
    "                squared = False\n",
    "               )\n",
    "        train_scores.append(rmse)\n",
    "\n",
    "        # Error de validación cruzada\n",
    "        scores = cross_val_score(\n",
    "                    estimator = modelo,\n",
    "                    X         = XTrain,\n",
    "                    y         = yTrain,\n",
    "                    scoring   = 'neg_root_mean_squared_error',\n",
    "                    cv        = 3,\n",
    "                    n_jobs    = -1\n",
    "                 )\n",
    "        # Se agregan los scores de cross_val_score() y se pasa a positivo\n",
    "        cv_scores.append(-1*scores.mean())\n",
    "        \n",
    "    resultados[colsample] = {'train_scores': train_scores, 'cv_scores': cv_scores}\n",
    "\n",
    "# Gráfico con la evolución de los errores de entrenamiento\n",
    "fig, axs = plt.subplots(nrows=1, ncols=2, figsize=(12, 3.84))\n",
    "\n",
    "for key, value in resultados.items():\n",
    "    axs[0].plot(n_estimators, value['train_scores'], label=f\"colsample_bytree {key}\")\n",
    "    axs[0].set_ylabel(\"root_mean_squared_error\")\n",
    "    axs[0].set_xlabel(\"n_estimators\")\n",
    "    axs[0].set_title(\"Evolución del train error vs colsample_bytree\")\n",
    "    \n",
    "    axs[1].plot(n_estimators, value['cv_scores'], label=f\"colsample_bytree {key}\")\n",
    "    axs[1].set_ylabel(\"root_mean_squared_error\")\n",
    "    axs[1].set_xlabel(\"n_estimators\")\n",
    "    axs[1].set_title(\"Evolución del cv-error vs colsample_bytree\")\n",
    "    plt.legend();"
   ]
  },
  {
   "cell_type": "markdown",
   "metadata": {},
   "source": [
    "La selección al azar de predictores no representa una mejoría en el modelo despúes de *0.8*."
   ]
  },
  {
   "cell_type": "code",
   "execution_count": 61,
   "metadata": {},
   "outputs": [
    {
     "data": {
      "text/plain": [
       "XGBRegressor(base_score=None, booster=None, callbacks=None,\n",
       "             colsample_bylevel=None, colsample_bynode=None, colsample_bytree=1,\n",
       "             early_stopping_rounds=None, enable_categorical=False, eta=0.1,\n",
       "             eval_metric=None, feature_types=None, gamma=10, gpu_id=None,\n",
       "             grow_policy=None, importance_type=None,\n",
       "             interaction_constraints=None, learning_rate=0.1, max_bin=None,\n",
       "             max_cat_threshold=None, max_cat_to_onehot=None,\n",
       "             max_delta_step=None, max_depth=5, max_leaves=None,\n",
       "             min_child_weight=None, missing=nan, monotone_constraints=None,\n",
       "             n_estimators=51, n_jobs=None, num_parallel_tree=None,\n",
       "             predictor=None, ...)"
      ]
     },
     "execution_count": 61,
     "metadata": {},
     "output_type": "execute_result"
    }
   ],
   "source": [
    "# Celda 7\n",
    "xbrgr2 = XGBRegressor(\n",
    "                    n_estimators  = 51,\n",
    "                    learning_rate = 0.1,\n",
    "                    max_depth = 5,\n",
    "                    eta=0.1,\n",
    "                    subsample=0.7,\n",
    "                    gamma = 10,\n",
    "                    colsample_bytree = 1\n",
    "                 )\n",
    "xbrgr2"
   ]
  },
  {
   "cell_type": "code",
   "execution_count": 62,
   "metadata": {},
   "outputs": [],
   "source": [
    "# Entrenamiento (fit) y desempeño del modelo XGBRegressor\n",
    "xbrgr2.fit(XTrain, yTrain)\n",
    "yPredX2 = xbrgr2.predict(XTest)"
   ]
  },
  {
   "cell_type": "markdown",
   "metadata": {},
   "source": [
    "## Métricas de calibración de XGBoost con librería"
   ]
  },
  {
   "cell_type": "code",
   "execution_count": 63,
   "metadata": {},
   "outputs": [
    {
     "data": {
      "text/plain": [
       "1133.355160755043"
      ]
     },
     "execution_count": 63,
     "metadata": {},
     "output_type": "execute_result"
    }
   ],
   "source": [
    "# MAE - error absoluto medio\n",
    "CXGBL_MAE = mean_absolute_error(yTest,yPredX2)\n",
    "CXGBL_MAE"
   ]
  },
  {
   "cell_type": "code",
   "execution_count": 64,
   "metadata": {},
   "outputs": [
    {
     "data": {
      "text/plain": [
       "8.195258975325258"
      ]
     },
     "execution_count": 64,
     "metadata": {},
     "output_type": "execute_result"
    }
   ],
   "source": [
    "# MAPE - error porcentual absoluto medio\n",
    "CXGBL_MAPE = mean_absolute_percentage_error(yTest,yPredX2) * 100\n",
    "CXGBL_MAPE"
   ]
  },
  {
   "cell_type": "code",
   "execution_count": 65,
   "metadata": {},
   "outputs": [
    {
     "data": {
      "text/plain": [
       "2409251.9797220137"
      ]
     },
     "execution_count": 65,
     "metadata": {},
     "output_type": "execute_result"
    }
   ],
   "source": [
    "# MSE - error cuadrático medio\n",
    "CXGBL_MSE = mean_squared_error(yTest,yPredX2)\n",
    "CXGBL_MSE"
   ]
  },
  {
   "cell_type": "code",
   "execution_count": 66,
   "metadata": {},
   "outputs": [
    {
     "data": {
      "text/plain": [
       "1552.1765298193418"
      ]
     },
     "execution_count": 66,
     "metadata": {},
     "output_type": "execute_result"
    }
   ],
   "source": [
    "# RMSE: raiz cuadrada del error cuadrático medio\n",
    "CXGBL_RMSE = mean_squared_error(yTest,yPredX2, squared= False)\n",
    "CXGBL_RMSE"
   ]
  },
  {
   "cell_type": "markdown",
   "metadata": {},
   "source": [
    "## Comparación modelos XGBoost"
   ]
  },
  {
   "cell_type": "code",
   "execution_count": 67,
   "metadata": {},
   "outputs": [
    {
     "data": {
      "image/png": "[encoded data removed]",
      "text/plain": [
       "<Figure size 288x216 with 1 Axes>"
      ]
     },
     "metadata": {
      "needs_background": "light"
     },
     "output_type": "display_data"
    }
   ],
   "source": [
    "fig = plt.figure(figsize=(4,3))\n",
    "ax = fig.add_axes([0,0,1,1])\n",
    "ax.set_title(\"Comparación de modelos\")\n",
    "ejeX = ['MAE','Calibración MAE' ]\n",
    "ejeY = [XGBL_MAE,CXGBL_MAE]\n",
    "ax.bar(ejeX,ejeY)\n",
    "ax.bar(ejeX,ejeY, color = ['orange', 'steelblue'])\n",
    "def addlabels(x,y,plotP):\n",
    "    for i in range(len(x)):\n",
    "        plotP.text(i,y[i], '{:.4f}'.format(y[i]), horizontalalignment='center')\n",
    "addlabels(ejeX,ejeY,plt)\n",
    "plt.show()"
   ]
  },
  {
   "cell_type": "code",
   "execution_count": 68,
   "metadata": {},
   "outputs": [
    {
     "data": {
      "image/png": "[encoded data removed]",
      "text/plain": [
       "<Figure size 288x216 with 1 Axes>"
      ]
     },
     "metadata": {
      "needs_background": "light"
     },
     "output_type": "display_data"
    }
   ],
   "source": [
    "fig = plt.figure(figsize=(4,3))\n",
    "ax = fig.add_axes([0,0,1,1])\n",
    "ax.set_title(\"Comparación de modelos\")\n",
    "ejeX = ['RMAPE','Calibración RMAPE' ]\n",
    "ejeY = [XGBL_MAPE,CXGBL_MAPE]\n",
    "ax.bar(ejeX,ejeY)\n",
    "ax.bar(ejeX,ejeY, color = ['orange', 'steelblue'])\n",
    "def addlabels(x,y,plotP):\n",
    "    for i in range(len(x)):\n",
    "        plotP.text(i,y[i], '{:.4f}'.format(y[i]), horizontalalignment='center')\n",
    "addlabels(ejeX,ejeY,plt)\n",
    "plt.show()"
   ]
  },
  {
   "cell_type": "code",
   "execution_count": 69,
   "metadata": {},
   "outputs": [
    {
     "data": {
      "image/png": "[encoded data removed]",
      "text/plain": [
       "<Figure size 288x216 with 1 Axes>"
      ]
     },
     "metadata": {
      "needs_background": "light"
     },
     "output_type": "display_data"
    }
   ],
   "source": [
    "fig = plt.figure(figsize=(4,3))\n",
    "ax = fig.add_axes([0,0,1,1])\n",
    "ax.set_title(\"Comparación de modelos\")\n",
    "ejeX = ['MSE','Calibración MSE' ]\n",
    "ejeY = [XGBL_MSE,CXGBL_MSE]\n",
    "ax.bar(ejeX,ejeY)\n",
    "ax.bar(ejeX,ejeY, color = ['orange', 'steelblue'])\n",
    "def addlabels(x,y,plotP):\n",
    "    for i in range(len(x)):\n",
    "        plotP.text(i,y[i], '{:.4f}'.format(y[i]), horizontalalignment='center')\n",
    "addlabels(ejeX,ejeY,plt)\n",
    "plt.show()"
   ]
  },
  {
   "cell_type": "code",
   "execution_count": 70,
   "metadata": {},
   "outputs": [
    {
     "data": {
      "image/png": "[encoded data removed]",
      "text/plain": [
       "<Figure size 288x216 with 1 Axes>"
      ]
     },
     "metadata": {
      "needs_background": "light"
     },
     "output_type": "display_data"
    }
   ],
   "source": [
    "fig = plt.figure(figsize=(4,3))\n",
    "ax = fig.add_axes([0,0,1,1])\n",
    "ax.set_title(\"Comparación de modelos\")\n",
    "ejeX = ['MSE','Calibración MSE' ]\n",
    "ejeY = [XGBL_RMSE,CXGBL_RMSE]\n",
    "ax.bar(ejeX,ejeY)\n",
    "ax.bar(ejeX,ejeY, color = ['orange', 'steelblue'])\n",
    "def addlabels(x,y,plotP):\n",
    "    for i in range(len(x)):\n",
    "        plotP.text(i,y[i], '{:.4f}'.format(y[i]), horizontalalignment='center')\n",
    "addlabels(ejeX,ejeY,plt)\n",
    "plt.show()"
   ]
  },
  {
   "cell_type": "markdown",
   "metadata": {},
   "source": [
    "**Nota:** Después de aplicar la calibración al modelo XGBoost se evidencia un mejor desempeño. El parámetro *learning_rate* representó el mejor ajuste."
   ]
  },
  {
   "cell_type": "markdown",
   "metadata": {
    "id": "OoiVFwqV0R-1"
   },
   "source": [
    "# Punto 8 - Comparación y análisis de resultados\n",
    "En la celda 8 comparen los resultados obtenidos de los diferentes modelos (random forest y XGBoost) y comenten las ventajas del mejor modelo y las desventajas del modelo con el menor desempeño."
   ]
  },
  {
   "cell_type": "markdown",
   "metadata": {
    "id": "FRcLJBz70R-2"
   },
   "source": [
    "De forma general, los modelos de random forest y XGBoost cuentan con un buen poder predictivo sin calibración. Sin embargo, al calibrar los modelos las predicciones mejoran significativamente, sobre todo en los modelos de XG Boost.\n",
    "\n",
    "Además, se identifica claramente que el modelo con mejor ajuste es el XG Boost, lo cual se debe tomar con precaución en términos de la interpretabilidad del modelo estimado.\n",
    "\n",
    "De otro lado, la principal desventaja del modelo de bajo desempeño, se debe sobre todo a que el random  forest generalmente cuenta con mejores resultados para la clasificación que para regresión, donde la variable respuesta es de tipo continuo."
   ]
  },
  {
   "cell_type": "code",
   "execution_count": 83,
   "metadata": {},
   "outputs": [
    {
     "data": {
      "image/png": "[encoded data removed]",
      "text/plain": [
       "<Figure size 432x288 with 1 Axes>"
      ]
     },
     "metadata": {
      "needs_background": "light"
     },
     "output_type": "display_data"
    }
   ],
   "source": [
    "fig = plt.figure()\n",
    "ax = fig.add_axes([0,0,1,1])\n",
    "ax.set_title(\"Comparación de modelos\")\n",
    "ejeX = ['XGBL MAPE','Calib XGBL MAPE', 'XGBL MAE','Calib XGBL MAE', \"Random Forest\"]\n",
    "ejeY = [XGBL_MAPE,CXGBL_MAPE, XGBL_MAE, CXGBL_MAE, Error_RF]\n",
    "ax.bar(ejeX,ejeY)\n",
    "ax.bar(ejeX,ejeY, color = ['steelblue','cyan', 'orange', 'yellow','red'])\n",
    "def addlabels(x,y,plotP):\n",
    "    for i in range(len(x)):\n",
    "        plotP.text(i,y[i],y[i])\n",
    "addlabels(ejeX,ejeY,plt)\n",
    "plt.show()"
   ]
  }
 ],
 "metadata": {
  "colab": {
   "provenance": []
  },
  "kernelspec": {
   "display_name": "Python 3 (ipykernel)",
   "language": "python",
   "name": "python3"
  },
  "language_info": {
   "codemirror_mode": {
    "name": "ipython",
    "version": 3
   },
   "file_extension": ".py",
   "mimetype": "text/x-python",
   "name": "python",
   "nbconvert_exporter": "python",
   "pygments_lexer": "ipython3",
   "version": "3.9.12"
  },
  "toc": {
   "base_numbering": 1,
   "nav_menu": {},
   "number_sections": true,
   "sideBar": true,
   "skip_h1_title": false,
   "title_cell": "Contenido",
   "title_sidebar": "Contents",
   "toc_cell": true,
   "toc_position": {
    "height": "calc(100% - 180px)",
    "left": "10px",
    "top": "150px",
    "width": "334.594px"
   },
   "toc_section_display": true,
   "toc_window_display": true
  },
  "varInspector": {
   "cols": {
    "lenName": 16,
    "lenType": 16,
    "lenVar": 40
   },
   "kernels_config": {
    "python": {
     "delete_cmd_postfix": "",
     "delete_cmd_prefix": "del ",
     "library": "var_list.py",
     "varRefreshCmd": "print(var_dic_list())"
    },
    "r": {
     "delete_cmd_postfix": ") ",
     "delete_cmd_prefix": "rm(",
     "library": "var_list.r",
     "varRefreshCmd": "cat(var_dic_list()) "
    }
   },
   "types_to_exclude": [
    "module",
    "function",
    "builtin_function_or_method",
    "instance",
    "_Feature"
   ],
   "window_display": false
  }
 },
 "nbformat": 4,
 "nbformat_minor": 1
}
